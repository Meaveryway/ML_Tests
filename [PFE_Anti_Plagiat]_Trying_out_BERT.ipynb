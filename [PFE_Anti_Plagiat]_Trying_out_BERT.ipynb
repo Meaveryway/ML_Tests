{
  "nbformat": 4,
  "nbformat_minor": 0,
  "metadata": {
    "colab": {
      "name": "[PFE Anti-Plagiat] Trying out BERT.ipynb",
      "provenance": [],
      "collapsed_sections": [],
      "authorship_tag": "ABX9TyOgRNByVDWcgKRyvAYWoaHu",
      "include_colab_link": true
    },
    "kernelspec": {
      "name": "python3",
      "display_name": "Python 3"
    },
    "widgets": {
      "application/vnd.jupyter.widget-state+json": {
        "fd544f9297604a759f4fa857c6c417aa": {
          "model_module": "@jupyter-widgets/controls",
          "model_name": "HBoxModel",
          "state": {
            "_view_name": "HBoxView",
            "_dom_classes": [],
            "_model_name": "HBoxModel",
            "_view_module": "@jupyter-widgets/controls",
            "_model_module_version": "1.5.0",
            "_view_count": null,
            "_view_module_version": "1.5.0",
            "box_style": "",
            "layout": "IPY_MODEL_4753137bc5f6422d9dccd47839beeeeb",
            "_model_module": "@jupyter-widgets/controls",
            "children": [
              "IPY_MODEL_6dad7e5ef372499a8c12e57c5bbdb0eb",
              "IPY_MODEL_961fbe51f5a044c7b2065a6d7c687f22"
            ]
          }
        },
        "4753137bc5f6422d9dccd47839beeeeb": {
          "model_module": "@jupyter-widgets/base",
          "model_name": "LayoutModel",
          "state": {
            "_view_name": "LayoutView",
            "grid_template_rows": null,
            "right": null,
            "justify_content": null,
            "_view_module": "@jupyter-widgets/base",
            "overflow": null,
            "_model_module_version": "1.2.0",
            "_view_count": null,
            "flex_flow": null,
            "width": null,
            "min_width": null,
            "border": null,
            "align_items": null,
            "bottom": null,
            "_model_module": "@jupyter-widgets/base",
            "top": null,
            "grid_column": null,
            "overflow_y": null,
            "overflow_x": null,
            "grid_auto_flow": null,
            "grid_area": null,
            "grid_template_columns": null,
            "flex": null,
            "_model_name": "LayoutModel",
            "justify_items": null,
            "grid_row": null,
            "max_height": null,
            "align_content": null,
            "visibility": null,
            "align_self": null,
            "height": null,
            "min_height": null,
            "padding": null,
            "grid_auto_rows": null,
            "grid_gap": null,
            "max_width": null,
            "order": null,
            "_view_module_version": "1.2.0",
            "grid_template_areas": null,
            "object_position": null,
            "object_fit": null,
            "grid_auto_columns": null,
            "margin": null,
            "display": null,
            "left": null
          }
        },
        "6dad7e5ef372499a8c12e57c5bbdb0eb": {
          "model_module": "@jupyter-widgets/controls",
          "model_name": "FloatProgressModel",
          "state": {
            "_view_name": "ProgressView",
            "style": "IPY_MODEL_67efb248322c413aae2ce19391b0c7a9",
            "_dom_classes": [],
            "description": "Downloading: 100%",
            "_model_name": "FloatProgressModel",
            "bar_style": "success",
            "max": 231508,
            "_view_module": "@jupyter-widgets/controls",
            "_model_module_version": "1.5.0",
            "value": 231508,
            "_view_count": null,
            "_view_module_version": "1.5.0",
            "orientation": "horizontal",
            "min": 0,
            "description_tooltip": null,
            "_model_module": "@jupyter-widgets/controls",
            "layout": "IPY_MODEL_e83f8724e5f04aa8b58f6cc568ce9107"
          }
        },
        "961fbe51f5a044c7b2065a6d7c687f22": {
          "model_module": "@jupyter-widgets/controls",
          "model_name": "HTMLModel",
          "state": {
            "_view_name": "HTMLView",
            "style": "IPY_MODEL_57eeca73d26d4960932ec1045be18ea8",
            "_dom_classes": [],
            "description": "",
            "_model_name": "HTMLModel",
            "placeholder": "​",
            "_view_module": "@jupyter-widgets/controls",
            "_model_module_version": "1.5.0",
            "value": " 232k/232k [00:00&lt;00:00, 2.03MB/s]",
            "_view_count": null,
            "_view_module_version": "1.5.0",
            "description_tooltip": null,
            "_model_module": "@jupyter-widgets/controls",
            "layout": "IPY_MODEL_e937c224dd4948e496e3b94ea16cccd3"
          }
        },
        "67efb248322c413aae2ce19391b0c7a9": {
          "model_module": "@jupyter-widgets/controls",
          "model_name": "ProgressStyleModel",
          "state": {
            "_view_name": "StyleView",
            "_model_name": "ProgressStyleModel",
            "description_width": "initial",
            "_view_module": "@jupyter-widgets/base",
            "_model_module_version": "1.5.0",
            "_view_count": null,
            "_view_module_version": "1.2.0",
            "bar_color": null,
            "_model_module": "@jupyter-widgets/controls"
          }
        },
        "e83f8724e5f04aa8b58f6cc568ce9107": {
          "model_module": "@jupyter-widgets/base",
          "model_name": "LayoutModel",
          "state": {
            "_view_name": "LayoutView",
            "grid_template_rows": null,
            "right": null,
            "justify_content": null,
            "_view_module": "@jupyter-widgets/base",
            "overflow": null,
            "_model_module_version": "1.2.0",
            "_view_count": null,
            "flex_flow": null,
            "width": null,
            "min_width": null,
            "border": null,
            "align_items": null,
            "bottom": null,
            "_model_module": "@jupyter-widgets/base",
            "top": null,
            "grid_column": null,
            "overflow_y": null,
            "overflow_x": null,
            "grid_auto_flow": null,
            "grid_area": null,
            "grid_template_columns": null,
            "flex": null,
            "_model_name": "LayoutModel",
            "justify_items": null,
            "grid_row": null,
            "max_height": null,
            "align_content": null,
            "visibility": null,
            "align_self": null,
            "height": null,
            "min_height": null,
            "padding": null,
            "grid_auto_rows": null,
            "grid_gap": null,
            "max_width": null,
            "order": null,
            "_view_module_version": "1.2.0",
            "grid_template_areas": null,
            "object_position": null,
            "object_fit": null,
            "grid_auto_columns": null,
            "margin": null,
            "display": null,
            "left": null
          }
        },
        "57eeca73d26d4960932ec1045be18ea8": {
          "model_module": "@jupyter-widgets/controls",
          "model_name": "DescriptionStyleModel",
          "state": {
            "_view_name": "StyleView",
            "_model_name": "DescriptionStyleModel",
            "description_width": "",
            "_view_module": "@jupyter-widgets/base",
            "_model_module_version": "1.5.0",
            "_view_count": null,
            "_view_module_version": "1.2.0",
            "_model_module": "@jupyter-widgets/controls"
          }
        },
        "e937c224dd4948e496e3b94ea16cccd3": {
          "model_module": "@jupyter-widgets/base",
          "model_name": "LayoutModel",
          "state": {
            "_view_name": "LayoutView",
            "grid_template_rows": null,
            "right": null,
            "justify_content": null,
            "_view_module": "@jupyter-widgets/base",
            "overflow": null,
            "_model_module_version": "1.2.0",
            "_view_count": null,
            "flex_flow": null,
            "width": null,
            "min_width": null,
            "border": null,
            "align_items": null,
            "bottom": null,
            "_model_module": "@jupyter-widgets/base",
            "top": null,
            "grid_column": null,
            "overflow_y": null,
            "overflow_x": null,
            "grid_auto_flow": null,
            "grid_area": null,
            "grid_template_columns": null,
            "flex": null,
            "_model_name": "LayoutModel",
            "justify_items": null,
            "grid_row": null,
            "max_height": null,
            "align_content": null,
            "visibility": null,
            "align_self": null,
            "height": null,
            "min_height": null,
            "padding": null,
            "grid_auto_rows": null,
            "grid_gap": null,
            "max_width": null,
            "order": null,
            "_view_module_version": "1.2.0",
            "grid_template_areas": null,
            "object_position": null,
            "object_fit": null,
            "grid_auto_columns": null,
            "margin": null,
            "display": null,
            "left": null
          }
        },
        "e9a931ea096d4ce5bcbc753f6ac60f31": {
          "model_module": "@jupyter-widgets/controls",
          "model_name": "HBoxModel",
          "state": {
            "_view_name": "HBoxView",
            "_dom_classes": [],
            "_model_name": "HBoxModel",
            "_view_module": "@jupyter-widgets/controls",
            "_model_module_version": "1.5.0",
            "_view_count": null,
            "_view_module_version": "1.5.0",
            "box_style": "",
            "layout": "IPY_MODEL_ed29bf3cccff4091b51ed40558d34f51",
            "_model_module": "@jupyter-widgets/controls",
            "children": [
              "IPY_MODEL_ea7db7b07f0d4693b495dc387427e99d",
              "IPY_MODEL_2200a5544fbe4a78bc6ffce5e461fb6d"
            ]
          }
        },
        "ed29bf3cccff4091b51ed40558d34f51": {
          "model_module": "@jupyter-widgets/base",
          "model_name": "LayoutModel",
          "state": {
            "_view_name": "LayoutView",
            "grid_template_rows": null,
            "right": null,
            "justify_content": null,
            "_view_module": "@jupyter-widgets/base",
            "overflow": null,
            "_model_module_version": "1.2.0",
            "_view_count": null,
            "flex_flow": null,
            "width": null,
            "min_width": null,
            "border": null,
            "align_items": null,
            "bottom": null,
            "_model_module": "@jupyter-widgets/base",
            "top": null,
            "grid_column": null,
            "overflow_y": null,
            "overflow_x": null,
            "grid_auto_flow": null,
            "grid_area": null,
            "grid_template_columns": null,
            "flex": null,
            "_model_name": "LayoutModel",
            "justify_items": null,
            "grid_row": null,
            "max_height": null,
            "align_content": null,
            "visibility": null,
            "align_self": null,
            "height": null,
            "min_height": null,
            "padding": null,
            "grid_auto_rows": null,
            "grid_gap": null,
            "max_width": null,
            "order": null,
            "_view_module_version": "1.2.0",
            "grid_template_areas": null,
            "object_position": null,
            "object_fit": null,
            "grid_auto_columns": null,
            "margin": null,
            "display": null,
            "left": null
          }
        },
        "ea7db7b07f0d4693b495dc387427e99d": {
          "model_module": "@jupyter-widgets/controls",
          "model_name": "FloatProgressModel",
          "state": {
            "_view_name": "ProgressView",
            "style": "IPY_MODEL_4934a9ba820041fd97ad9d1fc8ed251a",
            "_dom_classes": [],
            "description": "Downloading: 100%",
            "_model_name": "FloatProgressModel",
            "bar_style": "success",
            "max": 442,
            "_view_module": "@jupyter-widgets/controls",
            "_model_module_version": "1.5.0",
            "value": 442,
            "_view_count": null,
            "_view_module_version": "1.5.0",
            "orientation": "horizontal",
            "min": 0,
            "description_tooltip": null,
            "_model_module": "@jupyter-widgets/controls",
            "layout": "IPY_MODEL_d3a9076f1c8943dfa5e0689a12287cc2"
          }
        },
        "2200a5544fbe4a78bc6ffce5e461fb6d": {
          "model_module": "@jupyter-widgets/controls",
          "model_name": "HTMLModel",
          "state": {
            "_view_name": "HTMLView",
            "style": "IPY_MODEL_9ff7f0888d524539a02ce75ba4bd9461",
            "_dom_classes": [],
            "description": "",
            "_model_name": "HTMLModel",
            "placeholder": "​",
            "_view_module": "@jupyter-widgets/controls",
            "_model_module_version": "1.5.0",
            "value": " 442/442 [00:00&lt;00:00, 1.23kB/s]",
            "_view_count": null,
            "_view_module_version": "1.5.0",
            "description_tooltip": null,
            "_model_module": "@jupyter-widgets/controls",
            "layout": "IPY_MODEL_8e3abb12b2ac497fb88e468b89bcf94a"
          }
        },
        "4934a9ba820041fd97ad9d1fc8ed251a": {
          "model_module": "@jupyter-widgets/controls",
          "model_name": "ProgressStyleModel",
          "state": {
            "_view_name": "StyleView",
            "_model_name": "ProgressStyleModel",
            "description_width": "initial",
            "_view_module": "@jupyter-widgets/base",
            "_model_module_version": "1.5.0",
            "_view_count": null,
            "_view_module_version": "1.2.0",
            "bar_color": null,
            "_model_module": "@jupyter-widgets/controls"
          }
        },
        "d3a9076f1c8943dfa5e0689a12287cc2": {
          "model_module": "@jupyter-widgets/base",
          "model_name": "LayoutModel",
          "state": {
            "_view_name": "LayoutView",
            "grid_template_rows": null,
            "right": null,
            "justify_content": null,
            "_view_module": "@jupyter-widgets/base",
            "overflow": null,
            "_model_module_version": "1.2.0",
            "_view_count": null,
            "flex_flow": null,
            "width": null,
            "min_width": null,
            "border": null,
            "align_items": null,
            "bottom": null,
            "_model_module": "@jupyter-widgets/base",
            "top": null,
            "grid_column": null,
            "overflow_y": null,
            "overflow_x": null,
            "grid_auto_flow": null,
            "grid_area": null,
            "grid_template_columns": null,
            "flex": null,
            "_model_name": "LayoutModel",
            "justify_items": null,
            "grid_row": null,
            "max_height": null,
            "align_content": null,
            "visibility": null,
            "align_self": null,
            "height": null,
            "min_height": null,
            "padding": null,
            "grid_auto_rows": null,
            "grid_gap": null,
            "max_width": null,
            "order": null,
            "_view_module_version": "1.2.0",
            "grid_template_areas": null,
            "object_position": null,
            "object_fit": null,
            "grid_auto_columns": null,
            "margin": null,
            "display": null,
            "left": null
          }
        },
        "9ff7f0888d524539a02ce75ba4bd9461": {
          "model_module": "@jupyter-widgets/controls",
          "model_name": "DescriptionStyleModel",
          "state": {
            "_view_name": "StyleView",
            "_model_name": "DescriptionStyleModel",
            "description_width": "",
            "_view_module": "@jupyter-widgets/base",
            "_model_module_version": "1.5.0",
            "_view_count": null,
            "_view_module_version": "1.2.0",
            "_model_module": "@jupyter-widgets/controls"
          }
        },
        "8e3abb12b2ac497fb88e468b89bcf94a": {
          "model_module": "@jupyter-widgets/base",
          "model_name": "LayoutModel",
          "state": {
            "_view_name": "LayoutView",
            "grid_template_rows": null,
            "right": null,
            "justify_content": null,
            "_view_module": "@jupyter-widgets/base",
            "overflow": null,
            "_model_module_version": "1.2.0",
            "_view_count": null,
            "flex_flow": null,
            "width": null,
            "min_width": null,
            "border": null,
            "align_items": null,
            "bottom": null,
            "_model_module": "@jupyter-widgets/base",
            "top": null,
            "grid_column": null,
            "overflow_y": null,
            "overflow_x": null,
            "grid_auto_flow": null,
            "grid_area": null,
            "grid_template_columns": null,
            "flex": null,
            "_model_name": "LayoutModel",
            "justify_items": null,
            "grid_row": null,
            "max_height": null,
            "align_content": null,
            "visibility": null,
            "align_self": null,
            "height": null,
            "min_height": null,
            "padding": null,
            "grid_auto_rows": null,
            "grid_gap": null,
            "max_width": null,
            "order": null,
            "_view_module_version": "1.2.0",
            "grid_template_areas": null,
            "object_position": null,
            "object_fit": null,
            "grid_auto_columns": null,
            "margin": null,
            "display": null,
            "left": null
          }
        },
        "2960d25603b24f6383e3a1546acce7e3": {
          "model_module": "@jupyter-widgets/controls",
          "model_name": "HBoxModel",
          "state": {
            "_view_name": "HBoxView",
            "_dom_classes": [],
            "_model_name": "HBoxModel",
            "_view_module": "@jupyter-widgets/controls",
            "_model_module_version": "1.5.0",
            "_view_count": null,
            "_view_module_version": "1.5.0",
            "box_style": "",
            "layout": "IPY_MODEL_34b538676c7b416d889f092d146127ad",
            "_model_module": "@jupyter-widgets/controls",
            "children": [
              "IPY_MODEL_3602cf2116344dee8de389f417c6a96d",
              "IPY_MODEL_34908963962a4376afb0f82e2003600f"
            ]
          }
        },
        "34b538676c7b416d889f092d146127ad": {
          "model_module": "@jupyter-widgets/base",
          "model_name": "LayoutModel",
          "state": {
            "_view_name": "LayoutView",
            "grid_template_rows": null,
            "right": null,
            "justify_content": null,
            "_view_module": "@jupyter-widgets/base",
            "overflow": null,
            "_model_module_version": "1.2.0",
            "_view_count": null,
            "flex_flow": null,
            "width": null,
            "min_width": null,
            "border": null,
            "align_items": null,
            "bottom": null,
            "_model_module": "@jupyter-widgets/base",
            "top": null,
            "grid_column": null,
            "overflow_y": null,
            "overflow_x": null,
            "grid_auto_flow": null,
            "grid_area": null,
            "grid_template_columns": null,
            "flex": null,
            "_model_name": "LayoutModel",
            "justify_items": null,
            "grid_row": null,
            "max_height": null,
            "align_content": null,
            "visibility": null,
            "align_self": null,
            "height": null,
            "min_height": null,
            "padding": null,
            "grid_auto_rows": null,
            "grid_gap": null,
            "max_width": null,
            "order": null,
            "_view_module_version": "1.2.0",
            "grid_template_areas": null,
            "object_position": null,
            "object_fit": null,
            "grid_auto_columns": null,
            "margin": null,
            "display": null,
            "left": null
          }
        },
        "3602cf2116344dee8de389f417c6a96d": {
          "model_module": "@jupyter-widgets/controls",
          "model_name": "FloatProgressModel",
          "state": {
            "_view_name": "ProgressView",
            "style": "IPY_MODEL_352391a2a88c4b869b04ec9b9b4e98f5",
            "_dom_classes": [],
            "description": "Downloading: 100%",
            "_model_name": "FloatProgressModel",
            "bar_style": "success",
            "max": 267967963,
            "_view_module": "@jupyter-widgets/controls",
            "_model_module_version": "1.5.0",
            "value": 267967963,
            "_view_count": null,
            "_view_module_version": "1.5.0",
            "orientation": "horizontal",
            "min": 0,
            "description_tooltip": null,
            "_model_module": "@jupyter-widgets/controls",
            "layout": "IPY_MODEL_2b79505f9a2548dab7effd2b46f490e0"
          }
        },
        "34908963962a4376afb0f82e2003600f": {
          "model_module": "@jupyter-widgets/controls",
          "model_name": "HTMLModel",
          "state": {
            "_view_name": "HTMLView",
            "style": "IPY_MODEL_d75839d9ea634e77916455fa9d92a6fe",
            "_dom_classes": [],
            "description": "",
            "_model_name": "HTMLModel",
            "placeholder": "​",
            "_view_module": "@jupyter-widgets/controls",
            "_model_module_version": "1.5.0",
            "value": " 268M/268M [00:05&lt;00:00, 52.5MB/s]",
            "_view_count": null,
            "_view_module_version": "1.5.0",
            "description_tooltip": null,
            "_model_module": "@jupyter-widgets/controls",
            "layout": "IPY_MODEL_6ad21d9478c9470e81f021d0b285dccd"
          }
        },
        "352391a2a88c4b869b04ec9b9b4e98f5": {
          "model_module": "@jupyter-widgets/controls",
          "model_name": "ProgressStyleModel",
          "state": {
            "_view_name": "StyleView",
            "_model_name": "ProgressStyleModel",
            "description_width": "initial",
            "_view_module": "@jupyter-widgets/base",
            "_model_module_version": "1.5.0",
            "_view_count": null,
            "_view_module_version": "1.2.0",
            "bar_color": null,
            "_model_module": "@jupyter-widgets/controls"
          }
        },
        "2b79505f9a2548dab7effd2b46f490e0": {
          "model_module": "@jupyter-widgets/base",
          "model_name": "LayoutModel",
          "state": {
            "_view_name": "LayoutView",
            "grid_template_rows": null,
            "right": null,
            "justify_content": null,
            "_view_module": "@jupyter-widgets/base",
            "overflow": null,
            "_model_module_version": "1.2.0",
            "_view_count": null,
            "flex_flow": null,
            "width": null,
            "min_width": null,
            "border": null,
            "align_items": null,
            "bottom": null,
            "_model_module": "@jupyter-widgets/base",
            "top": null,
            "grid_column": null,
            "overflow_y": null,
            "overflow_x": null,
            "grid_auto_flow": null,
            "grid_area": null,
            "grid_template_columns": null,
            "flex": null,
            "_model_name": "LayoutModel",
            "justify_items": null,
            "grid_row": null,
            "max_height": null,
            "align_content": null,
            "visibility": null,
            "align_self": null,
            "height": null,
            "min_height": null,
            "padding": null,
            "grid_auto_rows": null,
            "grid_gap": null,
            "max_width": null,
            "order": null,
            "_view_module_version": "1.2.0",
            "grid_template_areas": null,
            "object_position": null,
            "object_fit": null,
            "grid_auto_columns": null,
            "margin": null,
            "display": null,
            "left": null
          }
        },
        "d75839d9ea634e77916455fa9d92a6fe": {
          "model_module": "@jupyter-widgets/controls",
          "model_name": "DescriptionStyleModel",
          "state": {
            "_view_name": "StyleView",
            "_model_name": "DescriptionStyleModel",
            "description_width": "",
            "_view_module": "@jupyter-widgets/base",
            "_model_module_version": "1.5.0",
            "_view_count": null,
            "_view_module_version": "1.2.0",
            "_model_module": "@jupyter-widgets/controls"
          }
        },
        "6ad21d9478c9470e81f021d0b285dccd": {
          "model_module": "@jupyter-widgets/base",
          "model_name": "LayoutModel",
          "state": {
            "_view_name": "LayoutView",
            "grid_template_rows": null,
            "right": null,
            "justify_content": null,
            "_view_module": "@jupyter-widgets/base",
            "overflow": null,
            "_model_module_version": "1.2.0",
            "_view_count": null,
            "flex_flow": null,
            "width": null,
            "min_width": null,
            "border": null,
            "align_items": null,
            "bottom": null,
            "_model_module": "@jupyter-widgets/base",
            "top": null,
            "grid_column": null,
            "overflow_y": null,
            "overflow_x": null,
            "grid_auto_flow": null,
            "grid_area": null,
            "grid_template_columns": null,
            "flex": null,
            "_model_name": "LayoutModel",
            "justify_items": null,
            "grid_row": null,
            "max_height": null,
            "align_content": null,
            "visibility": null,
            "align_self": null,
            "height": null,
            "min_height": null,
            "padding": null,
            "grid_auto_rows": null,
            "grid_gap": null,
            "max_width": null,
            "order": null,
            "_view_module_version": "1.2.0",
            "grid_template_areas": null,
            "object_position": null,
            "object_fit": null,
            "grid_auto_columns": null,
            "margin": null,
            "display": null,
            "left": null
          }
        }
      }
    }
  },
  "cells": [
    {
      "cell_type": "markdown",
      "metadata": {
        "id": "view-in-github",
        "colab_type": "text"
      },
      "source": [
        "<a href=\"https://colab.research.google.com/github/Meaveryway/ML_Tests/blob/master/%5BPFE_Anti_Plagiat%5D_Trying_out_BERT.ipynb\" target=\"_parent\"><img src=\"https://colab.research.google.com/assets/colab-badge.svg\" alt=\"Open In Colab\"/></a>"
      ]
    },
    {
      "cell_type": "code",
      "metadata": {
        "colab": {
          "base_uri": "https://localhost:8080/"
        },
        "id": "eWHjO3T7n1EU",
        "outputId": "0041ab00-4952-4346-b3e1-4536f3d7f24a"
      },
      "source": [
        "!pip install transformers"
      ],
      "execution_count": 4,
      "outputs": [
        {
          "output_type": "stream",
          "text": [
            "Collecting transformers\n",
            "\u001b[?25l  Downloading https://files.pythonhosted.org/packages/50/0c/7d5950fcd80b029be0a8891727ba21e0cd27692c407c51261c3c921f6da3/transformers-4.1.1-py3-none-any.whl (1.5MB)\n",
            "\u001b[K     |████████████████████████████████| 1.5MB 8.9MB/s \n",
            "\u001b[?25hRequirement already satisfied: requests in /usr/local/lib/python3.6/dist-packages (from transformers) (2.23.0)\n",
            "Collecting sacremoses\n",
            "\u001b[?25l  Downloading https://files.pythonhosted.org/packages/7d/34/09d19aff26edcc8eb2a01bed8e98f13a1537005d31e95233fd48216eed10/sacremoses-0.0.43.tar.gz (883kB)\n",
            "\u001b[K     |████████████████████████████████| 890kB 33.5MB/s \n",
            "\u001b[?25hRequirement already satisfied: numpy in /usr/local/lib/python3.6/dist-packages (from transformers) (1.19.4)\n",
            "Requirement already satisfied: tqdm>=4.27 in /usr/local/lib/python3.6/dist-packages (from transformers) (4.41.1)\n",
            "Requirement already satisfied: filelock in /usr/local/lib/python3.6/dist-packages (from transformers) (3.0.12)\n",
            "Requirement already satisfied: regex!=2019.12.17 in /usr/local/lib/python3.6/dist-packages (from transformers) (2019.12.20)\n",
            "Requirement already satisfied: packaging in /usr/local/lib/python3.6/dist-packages (from transformers) (20.8)\n",
            "Collecting tokenizers==0.9.4\n",
            "\u001b[?25l  Downloading https://files.pythonhosted.org/packages/0f/1c/e789a8b12e28be5bc1ce2156cf87cb522b379be9cadc7ad8091a4cc107c4/tokenizers-0.9.4-cp36-cp36m-manylinux2010_x86_64.whl (2.9MB)\n",
            "\u001b[K     |████████████████████████████████| 2.9MB 43.2MB/s \n",
            "\u001b[?25hRequirement already satisfied: dataclasses; python_version < \"3.7\" in /usr/local/lib/python3.6/dist-packages (from transformers) (0.8)\n",
            "Requirement already satisfied: idna<3,>=2.5 in /usr/local/lib/python3.6/dist-packages (from requests->transformers) (2.10)\n",
            "Requirement already satisfied: certifi>=2017.4.17 in /usr/local/lib/python3.6/dist-packages (from requests->transformers) (2020.12.5)\n",
            "Requirement already satisfied: urllib3!=1.25.0,!=1.25.1,<1.26,>=1.21.1 in /usr/local/lib/python3.6/dist-packages (from requests->transformers) (1.24.3)\n",
            "Requirement already satisfied: chardet<4,>=3.0.2 in /usr/local/lib/python3.6/dist-packages (from requests->transformers) (3.0.4)\n",
            "Requirement already satisfied: six in /usr/local/lib/python3.6/dist-packages (from sacremoses->transformers) (1.15.0)\n",
            "Requirement already satisfied: click in /usr/local/lib/python3.6/dist-packages (from sacremoses->transformers) (7.1.2)\n",
            "Requirement already satisfied: joblib in /usr/local/lib/python3.6/dist-packages (from sacremoses->transformers) (1.0.0)\n",
            "Requirement already satisfied: pyparsing>=2.0.2 in /usr/local/lib/python3.6/dist-packages (from packaging->transformers) (2.4.7)\n",
            "Building wheels for collected packages: sacremoses\n",
            "  Building wheel for sacremoses (setup.py) ... \u001b[?25l\u001b[?25hdone\n",
            "  Created wheel for sacremoses: filename=sacremoses-0.0.43-cp36-none-any.whl size=893261 sha256=bad0e29ff995c8580c2353aba1cb76ec1aba413591190014aaf35ebd79c80bb0\n",
            "  Stored in directory: /root/.cache/pip/wheels/29/3c/fd/7ce5c3f0666dab31a50123635e6fb5e19ceb42ce38d4e58f45\n",
            "Successfully built sacremoses\n",
            "Installing collected packages: sacremoses, tokenizers, transformers\n",
            "Successfully installed sacremoses-0.0.43 tokenizers-0.9.4 transformers-4.1.1\n"
          ],
          "name": "stdout"
        }
      ]
    },
    {
      "cell_type": "code",
      "metadata": {
        "id": "ZN7d7r9kn-gK"
      },
      "source": [
        "import numpy as np\n",
        "import pandas as pd\n",
        "from sklearn.model_selection import train_test_split\n",
        "from sklearn.linear_model import LogisticRegression\n",
        "from sklearn.model_selection import GridSearchCV\n",
        "from sklearn.model_selection import cross_val_score\n",
        "import torch\n",
        "import transformers as ppb\n",
        "import warnings\n",
        "warnings.filterwarnings('ignore')"
      ],
      "execution_count": 5,
      "outputs": []
    },
    {
      "cell_type": "markdown",
      "metadata": {
        "id": "FW6dPmODoQqU"
      },
      "source": [
        "# Importing BERT\n",
        "DistilBERT est une version allégée et beaucoup plus rapide de BERT, avec une perte en performance assez minime"
      ]
    },
    {
      "cell_type": "code",
      "metadata": {
        "colab": {
          "base_uri": "https://localhost:8080/",
          "height": 164,
          "referenced_widgets": [
            "fd544f9297604a759f4fa857c6c417aa",
            "4753137bc5f6422d9dccd47839beeeeb",
            "6dad7e5ef372499a8c12e57c5bbdb0eb",
            "961fbe51f5a044c7b2065a6d7c687f22",
            "67efb248322c413aae2ce19391b0c7a9",
            "e83f8724e5f04aa8b58f6cc568ce9107",
            "57eeca73d26d4960932ec1045be18ea8",
            "e937c224dd4948e496e3b94ea16cccd3",
            "e9a931ea096d4ce5bcbc753f6ac60f31",
            "ed29bf3cccff4091b51ed40558d34f51",
            "ea7db7b07f0d4693b495dc387427e99d",
            "2200a5544fbe4a78bc6ffce5e461fb6d",
            "4934a9ba820041fd97ad9d1fc8ed251a",
            "d3a9076f1c8943dfa5e0689a12287cc2",
            "9ff7f0888d524539a02ce75ba4bd9461",
            "8e3abb12b2ac497fb88e468b89bcf94a",
            "2960d25603b24f6383e3a1546acce7e3",
            "34b538676c7b416d889f092d146127ad",
            "3602cf2116344dee8de389f417c6a96d",
            "34908963962a4376afb0f82e2003600f",
            "352391a2a88c4b869b04ec9b9b4e98f5",
            "2b79505f9a2548dab7effd2b46f490e0",
            "d75839d9ea634e77916455fa9d92a6fe",
            "6ad21d9478c9470e81f021d0b285dccd"
          ]
        },
        "id": "M9fyZvwToYkq",
        "outputId": "49593de5-83dd-43b5-c227-0866924e3fcb"
      },
      "source": [
        "# Pour DistilBERT:\n",
        "model_class, tokenizer_class, pretrained_weights = (ppb.DistilBertModel, ppb.DistilBertTokenizer, 'distilbert-base-uncased')\n",
        "\n",
        "# Pour BERT standard\n",
        "# model_class, tokenizer_class, pretrained_weights = (ppb.BertModel, ppb.BertTokenizer, 'bert-base-uncased')\n",
        "\n",
        "# Pretrained model/tokenizer\n",
        "tokenizer = tokenizer_class.from_pretrained(pretrained_weights)\n",
        "model = model_class.from_pretrained(pretrained_weights)"
      ],
      "execution_count": null,
      "outputs": [
        {
          "output_type": "display_data",
          "data": {
            "application/vnd.jupyter.widget-view+json": {
              "model_id": "fd544f9297604a759f4fa857c6c417aa",
              "version_minor": 0,
              "version_major": 2
            },
            "text/plain": [
              "HBox(children=(FloatProgress(value=0.0, description='Downloading', max=231508.0, style=ProgressStyle(descripti…"
            ]
          },
          "metadata": {
            "tags": []
          }
        },
        {
          "output_type": "stream",
          "text": [
            "\n"
          ],
          "name": "stdout"
        },
        {
          "output_type": "display_data",
          "data": {
            "application/vnd.jupyter.widget-view+json": {
              "model_id": "e9a931ea096d4ce5bcbc753f6ac60f31",
              "version_minor": 0,
              "version_major": 2
            },
            "text/plain": [
              "HBox(children=(FloatProgress(value=0.0, description='Downloading', max=442.0, style=ProgressStyle(description_…"
            ]
          },
          "metadata": {
            "tags": []
          }
        },
        {
          "output_type": "stream",
          "text": [
            "\n"
          ],
          "name": "stdout"
        },
        {
          "output_type": "display_data",
          "data": {
            "application/vnd.jupyter.widget-view+json": {
              "model_id": "2960d25603b24f6383e3a1546acce7e3",
              "version_minor": 0,
              "version_major": 2
            },
            "text/plain": [
              "HBox(children=(FloatProgress(value=0.0, description='Downloading', max=267967963.0, style=ProgressStyle(descri…"
            ]
          },
          "metadata": {
            "tags": []
          }
        },
        {
          "output_type": "stream",
          "text": [
            "\n"
          ],
          "name": "stdout"
        }
      ]
    },
    {
      "cell_type": "code",
      "metadata": {
        "colab": {
          "base_uri": "https://localhost:8080/"
        },
        "id": "6HJBma3KOk2c",
        "outputId": "17bea530-a06b-4ed4-8cff-b7603042ff79"
      },
      "source": [
        "from google.colab import drive\n",
        "drive.mount('/content/gdrive')"
      ],
      "execution_count": 1,
      "outputs": [
        {
          "output_type": "stream",
          "text": [
            "Mounted at /content/gdrive\n"
          ],
          "name": "stdout"
        }
      ]
    },
    {
      "cell_type": "code",
      "metadata": {
        "colab": {
          "base_uri": "https://localhost:8080/",
          "height": 297
        },
        "id": "BoDhDTEVr0-p",
        "outputId": "2ff486a0-d644-4fac-f492-47300677e0c5"
      },
      "source": [
        "data = pd.read_csv('/content/gdrive/MyDrive/PFE - Anti-Plagiat/strings.csv', delimiter=';', header=None)\n",
        "data = data[:8]\n",
        "data"
      ],
      "execution_count": 9,
      "outputs": [
        {
          "output_type": "execute_result",
          "data": {
            "text/html": [
              "<div>\n",
              "<style scoped>\n",
              "    .dataframe tbody tr th:only-of-type {\n",
              "        vertical-align: middle;\n",
              "    }\n",
              "\n",
              "    .dataframe tbody tr th {\n",
              "        vertical-align: top;\n",
              "    }\n",
              "\n",
              "    .dataframe thead th {\n",
              "        text-align: right;\n",
              "    }\n",
              "</style>\n",
              "<table border=\"1\" class=\"dataframe\">\n",
              "  <thead>\n",
              "    <tr style=\"text-align: right;\">\n",
              "      <th></th>\n",
              "      <th>0</th>\n",
              "      <th>1</th>\n",
              "    </tr>\n",
              "  </thead>\n",
              "  <tbody>\n",
              "    <tr>\n",
              "      <th>0</th>\n",
              "      <td>It’s all the more important because the futur...</td>\n",
              "      <td>NaN</td>\n",
              "    </tr>\n",
              "    <tr>\n",
              "      <th>1</th>\n",
              "      <td>An estimated 140 million people lost their job...</td>\n",
              "      <td>NaN</td>\n",
              "    </tr>\n",
              "    <tr>\n",
              "      <th>2</th>\n",
              "      <td>An evaluated 140 million individuals misplaced...</td>\n",
              "      <td>NaN</td>\n",
              "    </tr>\n",
              "    <tr>\n",
              "      <th>3</th>\n",
              "      <td>As the lockdown was eased, many went back to w...</td>\n",
              "      <td>NaN</td>\n",
              "    </tr>\n",
              "    <tr>\n",
              "      <th>4</th>\n",
              "      <td>t’s all the more vital since the long run for ...</td>\n",
              "      <td>NaN</td>\n",
              "    </tr>\n",
              "    <tr>\n",
              "      <th>5</th>\n",
              "      <td>As the lockdown was facilitated, numerous went...</td>\n",
              "      <td>NaN</td>\n",
              "    </tr>\n",
              "    <tr>\n",
              "      <th>6</th>\n",
              "      <td>while many others saw their salaries drastical...</td>\n",
              "      <td>NaN</td>\n",
              "    </tr>\n",
              "    <tr>\n",
              "      <th>7</th>\n",
              "      <td>whereas numerous others saw their pay rates de...</td>\n",
              "      <td>NaN</td>\n",
              "    </tr>\n",
              "  </tbody>\n",
              "</table>\n",
              "</div>"
            ],
            "text/plain": [
              "                                                   0   1\n",
              "0   It’s all the more important because the futur... NaN\n",
              "1  An estimated 140 million people lost their job... NaN\n",
              "2  An evaluated 140 million individuals misplaced... NaN\n",
              "3  As the lockdown was eased, many went back to w... NaN\n",
              "4  t’s all the more vital since the long run for ... NaN\n",
              "5  As the lockdown was facilitated, numerous went... NaN\n",
              "6  while many others saw their salaries drastical... NaN\n",
              "7  whereas numerous others saw their pay rates de... NaN"
            ]
          },
          "metadata": {
            "tags": []
          },
          "execution_count": 9
        }
      ]
    },
    {
      "cell_type": "code",
      "metadata": {
        "colab": {
          "base_uri": "https://localhost:8080/"
        },
        "id": "BtKdAcFOs0wz",
        "outputId": "8ff138e1-907c-4179-cde5-937c382a1417"
      },
      "source": [
        "tokenized_data = data[0].apply((lambda x: tokenizer.encode(x, add_special_tokens=True)))\n",
        "tokenized_data"
      ],
      "execution_count": null,
      "outputs": [
        {
          "output_type": "execute_result",
          "data": {
            "text/plain": [
              "0    [101, 2009, 1521, 1055, 2035, 1996, 2062, 2590...\n",
              "1    [101, 2019, 4358, 8574, 2454, 2111, 2439, 2037...\n",
              "2    [101, 2019, 16330, 8574, 2454, 3633, 28616, 22...\n",
              "3    [101, 2004, 1996, 5843, 7698, 2001, 10987, 101...\n",
              "4    [101, 1056, 1521, 1055, 2035, 1996, 2062, 8995...\n",
              "5    [101, 2004, 1996, 5843, 7698, 2001, 19601, 101...\n",
              "6    [101, 2096, 2116, 2500, 2387, 2037, 20566, 210...\n",
              "7    [101, 6168, 3365, 2500, 2387, 2037, 3477, 6165...\n",
              "Name: 0, dtype: object"
            ]
          },
          "metadata": {
            "tags": []
          },
          "execution_count": 8
        }
      ]
    },
    {
      "cell_type": "code",
      "metadata": {
        "id": "0JSDkaWSs6KP"
      },
      "source": [
        "max_len = 0\n",
        "for i in tokenized_data.values:\n",
        "    if len(i) > max_len:\n",
        "        max_len = len(i)\n",
        "\n",
        "padded_data = np.array([i + [0]*(max_len-len(i)) for i in tokenized_data.values])"
      ],
      "execution_count": null,
      "outputs": []
    },
    {
      "cell_type": "code",
      "metadata": {
        "colab": {
          "base_uri": "https://localhost:8080/"
        },
        "id": "tmPi3Q-lwCW7",
        "outputId": "a4444480-36e7-4011-c7d5-237a9bea0781"
      },
      "source": [
        "print(np.array(padded_data).shape)\n",
        "padded_data"
      ],
      "execution_count": null,
      "outputs": [
        {
          "output_type": "stream",
          "text": [
            "(8, 35)\n"
          ],
          "name": "stdout"
        },
        {
          "output_type": "execute_result",
          "data": {
            "text/plain": [
              "array([[  101,  2009,  1521,  1055,  2035,  1996,  2062,  2590,  2138,\n",
              "         1996,  2925,  2005,  3514,  1998,  3806,  3316,  2003,  2062,\n",
              "         9662,  2084,  2412,  1010,  2029,  3084,  1996,  2925,  1997,\n",
              "         2037, 13117,  2015,  2062,  9662,  1010,   102,     0],\n",
              "       [  101,  2019,  4358,  8574,  2454,  2111,  2439,  2037,  5841,\n",
              "         2044,  2634,  5299,  2091,  2049,  4610,  1999,  2233,  2000,\n",
              "         2644,  1996,  8293,   102,     0,     0,     0,     0,     0,\n",
              "            0,     0,     0,     0,     0,     0,     0,     0],\n",
              "       [  101,  2019, 16330,  8574,  2454,  3633, 28616, 22829,  2037,\n",
              "         6107,  2015,  2044,  2634, 18088,  2091,  2049,  4610,  1999,\n",
              "         3328,  2000,  9190,  1996, 17748,  1011,  2039,   102,     0,\n",
              "            0,     0,     0,     0,     0,     0,     0,     0],\n",
              "       [  101,  2004,  1996,  5843,  7698,  2001, 10987,  1010,  2116,\n",
              "         2253,  2067,  2000,  2147,  1010,  2021,  2062,  2084,  2416,\n",
              "         2454,  2111,  2040,  2439,  5841,  4033,  1521,  1056,  2179,\n",
              "         2047,  6107,  1012,   102,     0,     0,     0,     0],\n",
              "       [  101,  1056,  1521,  1055,  2035,  1996,  2062,  8995,  2144,\n",
              "         1996,  2146,  2448,  2005,  3514,  1998,  3806,  3316,  2003,\n",
              "         2062, 21068,  2084,  2412,  1010,  2029,  3084,  2146,  1011,\n",
              "         2744,  1997,  2037, 13117,  2015,  2062, 21068,   102],\n",
              "       [  101,  2004,  1996,  5843,  7698,  2001, 19601,  1010,  3365,\n",
              "         2253,  2067,  2000,  2147,  1010,  2021,  2062,  2084,  2416,\n",
              "         2454,  3633,  2040, 28616, 22829, 23374,  4033,  1521,  1056,\n",
              "         2179, 15171,  6107,   102,     0,     0,     0,     0],\n",
              "       [  101,  2096,  2116,  2500,  2387,  2037, 20566, 21040,  4359,\n",
              "         1010,  1996,  8955,  1011,  2241,  2415,  2005,  8822,  2796,\n",
              "         4610,  2056,   102,     0,     0,     0,     0,     0,     0,\n",
              "            0,     0,     0,     0,     0,     0,     0,     0],\n",
              "       [  101,  6168,  3365,  2500,  2387,  2037,  3477,  6165,  5791,\n",
              "        10548,  1010,  1996,  8955,  1011,  2241,  2415,  2005, 14158,\n",
              "         2796,  4610,  2056,   102,     0,     0,     0,     0,     0,\n",
              "            0,     0,     0,     0,     0,     0,     0,     0]])"
            ]
          },
          "metadata": {
            "tags": []
          },
          "execution_count": 10
        }
      ]
    },
    {
      "cell_type": "code",
      "metadata": {
        "colab": {
          "base_uri": "https://localhost:8080/"
        },
        "id": "hl4lcrpWwJDK",
        "outputId": "c7462e7f-c4d1-47cb-88d3-0aeeac8e7323"
      },
      "source": [
        "attention_mask = np.where(padded_data != 0, 1, 0)\n",
        "attention_mask.shape"
      ],
      "execution_count": null,
      "outputs": [
        {
          "output_type": "execute_result",
          "data": {
            "text/plain": [
              "(8, 35)"
            ]
          },
          "metadata": {
            "tags": []
          },
          "execution_count": 11
        }
      ]
    },
    {
      "cell_type": "code",
      "metadata": {
        "id": "u0LzKjABwjWW"
      },
      "source": [
        "input_ids = torch.tensor(padded_data)  \n",
        "attention_mask = torch.tensor(attention_mask)\n",
        "\n",
        "with torch.no_grad():\n",
        "    last_hidden_states = model(input_ids, attention_mask=attention_mask)"
      ],
      "execution_count": null,
      "outputs": []
    },
    {
      "cell_type": "code",
      "metadata": {
        "colab": {
          "base_uri": "https://localhost:8080/"
        },
        "id": "aRXeibTSw0nS",
        "outputId": "00750ff0-45ef-46fc-c3b4-51da581c6e10"
      },
      "source": [
        "last_hidden_states"
      ],
      "execution_count": null,
      "outputs": [
        {
          "output_type": "execute_result",
          "data": {
            "text/plain": [
              "BaseModelOutput([('last_hidden_state',\n",
              "                  tensor([[[ 0.0660, -0.0181, -0.0963,  ..., -0.0901,  0.5605,  0.2927],\n",
              "                           [-0.1691, -0.3056, -0.2971,  ...,  0.1781,  0.6015,  0.1504],\n",
              "                           [ 0.1936, -0.1980,  0.9554,  ...,  0.0653,  0.1003, -0.1532],\n",
              "                           ...,\n",
              "                           [-0.1329, -0.3221, -0.1264,  ...,  0.2939,  0.4699, -0.1675],\n",
              "                           [ 0.3842,  0.2835,  0.0764,  ...,  0.0599, -0.1860, -0.7137],\n",
              "                           [-0.0440, -0.0828,  0.0462,  ...,  0.2104,  0.1965,  0.2273]],\n",
              "                  \n",
              "                          [[-0.1571, -0.2777, -0.2036,  ..., -0.2306,  0.2623,  0.0264],\n",
              "                           [-0.0872, -0.0878, -0.4473,  ..., -0.0924,  0.7465, -0.0404],\n",
              "                           [ 0.0802, -0.1467, -0.2955,  ..., -0.2977,  0.2818, -0.3092],\n",
              "                           ...,\n",
              "                           [-0.1633, -0.2039, -0.1603,  ..., -0.1330, -0.0112,  0.0863],\n",
              "                           [ 0.0929, -0.1868,  0.0807,  ...,  0.0445,  0.0743,  0.1360],\n",
              "                           [-0.0635, -0.2898, -0.0418,  ...,  0.0666, -0.1179, -0.1801]],\n",
              "                  \n",
              "                          [[-0.1488, -0.2434, -0.1742,  ..., -0.2935,  0.4946,  0.0173],\n",
              "                           [-0.2040, -0.0976, -0.1769,  ..., -0.0542,  0.8450,  0.0456],\n",
              "                           [ 0.0228, -0.0391, -0.1725,  ..., -0.0566,  0.2246, -0.3764],\n",
              "                           ...,\n",
              "                           [-0.0585, -0.1727, -0.0662,  ..., -0.0816,  0.0870, -0.1142],\n",
              "                           [ 0.2134, -0.2444,  0.0690,  ..., -0.0063,  0.1163,  0.0276],\n",
              "                           [ 0.1994, -0.0039,  0.0547,  ..., -0.0731,  0.0786, -0.0955]],\n",
              "                  \n",
              "                          ...,\n",
              "                  \n",
              "                          [[-0.0533, -0.0321, -0.1227,  ..., -0.1801,  0.2506,  0.1215],\n",
              "                           [-0.5566,  0.1260,  0.3301,  ..., -0.3281,  0.2734,  0.0933],\n",
              "                           [-0.6234, -0.5682, -0.0066,  ..., -0.1957, -0.1600, -0.1880],\n",
              "                           ...,\n",
              "                           [ 0.0530, -0.0210,  0.0588,  ..., -0.0581, -0.1232, -0.1743],\n",
              "                           [ 0.2552,  0.0032,  0.1692,  ..., -0.0255, -0.1777, -0.2006],\n",
              "                           [ 0.1888, -0.0615, -0.0635,  ...,  0.2298, -0.1083, -0.1850]],\n",
              "                  \n",
              "                          [[-0.0586, -0.2773, -0.2403,  ..., -0.1439,  0.4054,  0.1640],\n",
              "                           [-0.2218, -0.0806, -0.3190,  ...,  0.0543,  0.3407,  0.2344],\n",
              "                           [-0.0780, -0.2394,  0.0754,  ..., -0.0118,  0.2520, -0.4598],\n",
              "                           ...,\n",
              "                           [-0.0285, -0.1174,  0.0581,  ...,  0.0650, -0.0399, -0.1585],\n",
              "                           [ 0.0055, -0.2336, -0.0165,  ...,  0.1915, -0.0543, -0.2625],\n",
              "                           [-0.2513, -0.1269,  0.0318,  ...,  0.1314, -0.1069, -0.1472]],\n",
              "                  \n",
              "                          [[-0.0013, -0.2375, -0.1613,  ..., -0.1707,  0.5304,  0.1580],\n",
              "                           [-0.0106,  0.0553, -0.1526,  ...,  0.0270,  0.6671,  0.2223],\n",
              "                           [ 0.2055, -0.1589,  0.1858,  ...,  0.0124,  0.2836, -0.3912],\n",
              "                           ...,\n",
              "                           [ 0.0602, -0.1768,  0.1258,  ...,  0.0431,  0.1395, -0.2112],\n",
              "                           [ 0.3466, -0.0326,  0.1152,  ...,  0.0499,  0.1411, -0.2263],\n",
              "                           [-0.1412, -0.0950, -0.0708,  ...,  0.0669,  0.0411, -0.2422]]]))])"
            ]
          },
          "metadata": {
            "tags": []
          },
          "execution_count": 13
        }
      ]
    },
    {
      "cell_type": "code",
      "metadata": {
        "id": "XDe50nYHw9Ig"
      },
      "source": [
        "features = last_hidden_states[0][:,0,:].numpy()"
      ],
      "execution_count": null,
      "outputs": []
    },
    {
      "cell_type": "code",
      "metadata": {
        "colab": {
          "base_uri": "https://localhost:8080/"
        },
        "id": "ZG8K8URLxBQ4",
        "outputId": "070ce8e3-0e20-4337-9ba0-64f325ba705b"
      },
      "source": [
        "features"
      ],
      "execution_count": null,
      "outputs": [
        {
          "output_type": "execute_result",
          "data": {
            "text/plain": [
              "array([[ 0.0659513 , -0.01806026, -0.09626837, ..., -0.09005176,\n",
              "         0.56052524,  0.29271957],\n",
              "       [-0.15710564, -0.2777346 , -0.20360896, ..., -0.23059864,\n",
              "         0.2623404 ,  0.02639246],\n",
              "       [-0.14884777, -0.24344797, -0.17423004, ..., -0.29352722,\n",
              "         0.4945906 ,  0.01734499],\n",
              "       ...,\n",
              "       [-0.05328703, -0.03208537, -0.12271914, ..., -0.18011585,\n",
              "         0.25056118,  0.12145836],\n",
              "       [-0.05857902, -0.2773153 , -0.24032865, ..., -0.14391048,\n",
              "         0.40543303,  0.16404425],\n",
              "       [-0.00129021, -0.23748294, -0.1613334 , ..., -0.17072962,\n",
              "         0.53042907,  0.15803434]], dtype=float32)"
            ]
          },
          "metadata": {
            "tags": []
          },
          "execution_count": 15
        }
      ]
    },
    {
      "cell_type": "code",
      "metadata": {
        "colab": {
          "base_uri": "https://localhost:8080/"
        },
        "id": "1uVCj0hfxCnJ",
        "outputId": "6b1426eb-41a8-4f62-b13d-7f58ebc0cdd6"
      },
      "source": [
        "from numpy import dot\n",
        "from numpy.linalg import norm\n",
        "\n",
        "cos_sim = dot(features[0], features[1])/(norm(features[0])*norm(features[1]))\n",
        "print(\"Similarity =\", cos_sim, \"for sentences: \\n-\", data[0][0], \"\\n -\", data[0][1])"
      ],
      "execution_count": null,
      "outputs": [
        {
          "output_type": "stream",
          "text": [
            "Similarity = 0.7890356 for sentences: \n",
            "-  It’s all the more important because the future for oil and gas companies is more uncertain than ever, which makes the future of their pipelines more uncertain, \n",
            " - An estimated 140 million people lost their jobs after India locked down its economy in March to stop the outbreak\n"
          ],
          "name": "stdout"
        }
      ]
    },
    {
      "cell_type": "code",
      "metadata": {
        "id": "usQ51l4a1bIs"
      },
      "source": [
        "float_formatter = \"{:.3f}\".format\n",
        "np.set_printoptions(formatter={'float_kind':float_formatter})"
      ],
      "execution_count": null,
      "outputs": []
    },
    {
      "cell_type": "code",
      "metadata": {
        "colab": {
          "base_uri": "https://localhost:8080/"
        },
        "id": "PtGUifpoxiHX",
        "outputId": "b86c4a6e-31ee-4883-cc8f-20998f7ef973"
      },
      "source": [
        "from sklearn.metrics.pairwise import cosine_similarity\n",
        "similarity_matrix = cosine_similarity(features)\n",
        "#similarity_matrix[similarity_matrix > 0.99999] = float(\"nan\")\n",
        "print(similarity_matrix)"
      ],
      "execution_count": null,
      "outputs": [
        {
          "output_type": "stream",
          "text": [
            "[[1.000 0.789 0.887 0.914 0.971 0.906 0.883 0.891]\n",
            " [0.789 1.000 0.901 0.866 0.777 0.837 0.879 0.851]\n",
            " [0.887 0.901 1.000 0.923 0.901 0.924 0.948 0.944]\n",
            " [0.914 0.866 0.923 1.000 0.908 0.978 0.915 0.910]\n",
            " [0.971 0.777 0.901 0.908 1.000 0.908 0.883 0.895]\n",
            " [0.906 0.837 0.924 0.978 0.908 1.000 0.907 0.908]\n",
            " [0.883 0.879 0.948 0.915 0.883 0.907 1.000 0.987]\n",
            " [0.891 0.851 0.944 0.910 0.895 0.908 0.987 1.000]]\n"
          ],
          "name": "stdout"
        }
      ]
    },
    {
      "cell_type": "code",
      "metadata": {
        "colab": {
          "base_uri": "https://localhost:8080/",
          "height": 435
        },
        "id": "s9cQwG152kpt",
        "outputId": "395e6ca0-6af2-4b3b-a9d1-0ccc3a9dab75"
      },
      "source": [
        "print(data[0])\n",
        "\n",
        "import seaborn as sns\n",
        "mask = np.triu(similarity_matrix)\n",
        "cmap = sns.cm.rocket_r\n",
        "sns.heatmap(similarity_matrix, annot=True, mask=mask, cmap=cmap)"
      ],
      "execution_count": null,
      "outputs": [
        {
          "output_type": "stream",
          "text": [
            "0     It’s all the more important because the futur...\n",
            "1    An estimated 140 million people lost their job...\n",
            "2    An evaluated 140 million individuals misplaced...\n",
            "3    As the lockdown was eased, many went back to w...\n",
            "4    t’s all the more vital since the long run for ...\n",
            "5    As the lockdown was facilitated, numerous went...\n",
            "6    while many others saw their salaries drastical...\n",
            "7    whereas numerous others saw their pay rates de...\n",
            "Name: 0, dtype: object\n"
          ],
          "name": "stdout"
        },
        {
          "output_type": "execute_result",
          "data": {
            "text/plain": [
              "<matplotlib.axes._subplots.AxesSubplot at 0x7f97770d0940>"
            ]
          },
          "metadata": {
            "tags": []
          },
          "execution_count": 22
        },
        {
          "output_type": "display_data",
          "data": {
            "image/png": "[encoded data removed]",
            "text/plain": [
              "<Figure size 432x288 with 2 Axes>"
            ]
          },
          "metadata": {
            "tags": [],
            "needs_background": "light"
          }
        }
      ]
    },
    {
      "cell_type": "code",
      "metadata": {
        "id": "NbVqTiot4owK",
        "colab": {
          "base_uri": "https://localhost:8080/"
        },
        "outputId": "86920e0f-7751-4e1b-fd11-86376907e737"
      },
      "source": [
        "from sklearn.metrics.pairwise import manhattan_distances\n",
        "distance_matrix_manhattan = manhattan_distances(features)\n",
        "#similarity_matrix[similarity_matrix > 0.99999] = float(\"nan\")\n",
        "# normalisation:\n",
        "norm = np.linalg.norm(distance_matrix_manhattan)\n",
        "similarity_matrix_manhattan = 1- distance_matrix_manhattan/norm\n",
        "print(similarity_matrix_manhattan)"
      ],
      "execution_count": null,
      "outputs": [
        {
          "output_type": "stream",
          "text": [
            "[[1.000 0.797 0.864 0.880 0.933 0.878 0.857 0.864]\n",
            " [0.797 1.000 0.858 0.834 0.796 0.823 0.842 0.826]\n",
            " [0.864 0.858 1.000 0.886 0.873 0.893 0.905 0.904]\n",
            " [0.880 0.834 0.886 1.000 0.876 0.938 0.879 0.876]\n",
            " [0.933 0.796 0.873 0.876 1.000 0.881 0.860 0.869]\n",
            " [0.878 0.823 0.893 0.938 0.881 1.000 0.875 0.879]\n",
            " [0.857 0.842 0.905 0.879 0.860 0.875 1.000 0.953]\n",
            " [0.864 0.826 0.904 0.876 0.869 0.879 0.953 1.000]]\n"
          ],
          "name": "stdout"
        }
      ]
    },
    {
      "cell_type": "code",
      "metadata": {
        "colab": {
          "base_uri": "https://localhost:8080/",
          "height": 435
        },
        "id": "ym15XwTHQHgj",
        "outputId": "4f95fc98-16e2-4e6c-f247-8cb58def7315"
      },
      "source": [
        "print(data[0])\n",
        "\n",
        "mask_manhattan = np.triu(similarity_matrix_manhattan)\n",
        "cmap = sns.cm.rocket_r\n",
        "sns.heatmap(similarity_matrix_manhattan, annot=True, mask=mask_manhattan, cmap=cmap)"
      ],
      "execution_count": null,
      "outputs": [
        {
          "output_type": "stream",
          "text": [
            "0     It’s all the more important because the futur...\n",
            "1    An estimated 140 million people lost their job...\n",
            "2    An evaluated 140 million individuals misplaced...\n",
            "3    As the lockdown was eased, many went back to w...\n",
            "4    t’s all the more vital since the long run for ...\n",
            "5    As the lockdown was facilitated, numerous went...\n",
            "6    while many others saw their salaries drastical...\n",
            "7    whereas numerous others saw their pay rates de...\n",
            "Name: 0, dtype: object\n"
          ],
          "name": "stdout"
        },
        {
          "output_type": "execute_result",
          "data": {
            "text/plain": [
              "<matplotlib.axes._subplots.AxesSubplot at 0x7f9776fb1940>"
            ]
          },
          "metadata": {
            "tags": []
          },
          "execution_count": 26
        },
        {
          "output_type": "display_data",
          "data": {
            "image/png": "[encoded data removed]",
            "text/plain": [
              "<Figure size 432x288 with 2 Axes>"
            ]
          },
          "metadata": {
            "tags": [],
            "needs_background": "light"
          }
        }
      ]
    },
    {
      "cell_type": "code",
      "metadata": {
        "colab": {
          "base_uri": "https://localhost:8080/"
        },
        "id": "Xfnn4CaMS68_",
        "outputId": "6f1f9f38-e559-4a04-e6f9-eeee3569da4b"
      },
      "source": [
        "from sklearn.metrics import pairwise_distances\n",
        "distance_matrix_euclidean_2 = pairwise_distances(features, metric = \"cityblock\")\n",
        "#similarity_matrix[similarity_matrix > 0.99999] = float(\"nan\")\n",
        "\n",
        "# normalisation:\n",
        "norm = np.linalg.norm(distance_matrix_euclidean_2)\n",
        "similarity_matrix_euclidean_2 = 1- distance_matrix_euclidean_2/norm\n",
        "\n",
        "\n",
        "print(similarity_matrix_euclidean_2)"
      ],
      "execution_count": null,
      "outputs": [
        {
          "output_type": "stream",
          "text": [
            "[[1.000 0.797 0.864 0.880 0.933 0.878 0.857 0.864]\n",
            " [0.797 1.000 0.858 0.834 0.796 0.823 0.842 0.826]\n",
            " [0.864 0.858 1.000 0.886 0.873 0.893 0.905 0.904]\n",
            " [0.880 0.834 0.886 1.000 0.876 0.938 0.879 0.876]\n",
            " [0.933 0.796 0.873 0.876 1.000 0.881 0.860 0.869]\n",
            " [0.878 0.823 0.893 0.938 0.881 1.000 0.875 0.879]\n",
            " [0.857 0.842 0.905 0.879 0.860 0.875 1.000 0.953]\n",
            " [0.864 0.826 0.904 0.876 0.869 0.879 0.953 1.000]]\n"
          ],
          "name": "stdout"
        }
      ]
    },
    {
      "cell_type": "code",
      "metadata": {
        "colab": {
          "base_uri": "https://localhost:8080/",
          "height": 435
        },
        "id": "auVEbO7EfJyy",
        "outputId": "bac867e6-c419-4dd8-eb47-58b818e34053"
      },
      "source": [
        "print(data[0])\n",
        "mask_euclidean_2 = np.triu(similarity_matrix_euclidean_2)\n",
        "cmap = sns.cm.rocket_r\n",
        "sns.heatmap(similarity_matrix_euclidean_2, annot=True, mask=mask_euclidean_2, cmap=cmap)"
      ],
      "execution_count": null,
      "outputs": [
        {
          "output_type": "stream",
          "text": [
            "0     It’s all the more important because the futur...\n",
            "1    An estimated 140 million people lost their job...\n",
            "2    An evaluated 140 million individuals misplaced...\n",
            "3    As the lockdown was eased, many went back to w...\n",
            "4    t’s all the more vital since the long run for ...\n",
            "5    As the lockdown was facilitated, numerous went...\n",
            "6    while many others saw their salaries drastical...\n",
            "7    whereas numerous others saw their pay rates de...\n",
            "Name: 0, dtype: object\n"
          ],
          "name": "stdout"
        },
        {
          "output_type": "execute_result",
          "data": {
            "text/plain": [
              "<matplotlib.axes._subplots.AxesSubplot at 0x7f977a5a9ba8>"
            ]
          },
          "metadata": {
            "tags": []
          },
          "execution_count": 21
        },
        {
          "output_type": "display_data",
          "data": {
            "image/png": "[encoded data removed]",
            "text/plain": [
              "<Figure size 432x288 with 2 Axes>"
            ]
          },
          "metadata": {
            "tags": [],
            "needs_background": "light"
          }
        }
      ]
    },
    {
      "cell_type": "code",
      "metadata": {
        "colab": {
          "base_uri": "https://localhost:8080/",
          "height": 35
        },
        "id": "dnmRzPqageDV",
        "outputId": "37c8167e-2bf2-4ca3-bd20-0efdaaf758c0"
      },
      "source": [
        "import tensorflow as tf\n",
        "tf.test.gpu_device_name()"
      ],
      "execution_count": null,
      "outputs": [
        {
          "output_type": "execute_result",
          "data": {
            "application/vnd.google.colaboratory.intrinsic+json": {
              "type": "string"
            },
            "text/plain": [
              "'/device:GPU:0'"
            ]
          },
          "metadata": {
            "tags": []
          },
          "execution_count": 1
        }
      ]
    },
    {
      "cell_type": "code",
      "metadata": {
        "id": "1n4ViakEiy2n"
      },
      "source": [
        ""
      ],
      "execution_count": null,
      "outputs": []
    }
  ]
}