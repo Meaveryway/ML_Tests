{
  "nbformat": 4,
  "nbformat_minor": 0,
  "metadata": {
    "colab": {
      "name": "[PFE Anti-Plagiat] BERT Tests.ipynb",
      "provenance": [],
      "collapsed_sections": [],
      "authorship_tag": "ABX9TyOs84v/XBgRRKTmTuqnw7Lz",
      "include_colab_link": true
    },
    "kernelspec": {
      "name": "python3",
      "display_name": "Python 3"
    },
    "widgets": {
      "application/vnd.jupyter.widget-state+json": {
        "45fe0f476ed2498da82b3742b24decf3": {
          "model_module": "@jupyter-widgets/controls",
          "model_name": "HBoxModel",
          "state": {
            "_view_name": "HBoxView",
            "_dom_classes": [],
            "_model_name": "HBoxModel",
            "_view_module": "@jupyter-widgets/controls",
            "_model_module_version": "1.5.0",
            "_view_count": null,
            "_view_module_version": "1.5.0",
            "box_style": "",
            "layout": "IPY_MODEL_ebe5ead9822346a5ab81c452c839f666",
            "_model_module": "@jupyter-widgets/controls",
            "children": [
              "IPY_MODEL_1cafa7fdb3284542988c8a22dd16c2c2",
              "IPY_MODEL_67eaa3f08f424d5fa358724b57ecac12"
            ]
          }
        },
        "ebe5ead9822346a5ab81c452c839f666": {
          "model_module": "@jupyter-widgets/base",
          "model_name": "LayoutModel",
          "state": {
            "_view_name": "LayoutView",
            "grid_template_rows": null,
            "right": null,
            "justify_content": null,
            "_view_module": "@jupyter-widgets/base",
            "overflow": null,
            "_model_module_version": "1.2.0",
            "_view_count": null,
            "flex_flow": null,
            "width": null,
            "min_width": null,
            "border": null,
            "align_items": null,
            "bottom": null,
            "_model_module": "@jupyter-widgets/base",
            "top": null,
            "grid_column": null,
            "overflow_y": null,
            "overflow_x": null,
            "grid_auto_flow": null,
            "grid_area": null,
            "grid_template_columns": null,
            "flex": null,
            "_model_name": "LayoutModel",
            "justify_items": null,
            "grid_row": null,
            "max_height": null,
            "align_content": null,
            "visibility": null,
            "align_self": null,
            "height": null,
            "min_height": null,
            "padding": null,
            "grid_auto_rows": null,
            "grid_gap": null,
            "max_width": null,
            "order": null,
            "_view_module_version": "1.2.0",
            "grid_template_areas": null,
            "object_position": null,
            "object_fit": null,
            "grid_auto_columns": null,
            "margin": null,
            "display": null,
            "left": null
          }
        },
        "1cafa7fdb3284542988c8a22dd16c2c2": {
          "model_module": "@jupyter-widgets/controls",
          "model_name": "FloatProgressModel",
          "state": {
            "_view_name": "ProgressView",
            "style": "IPY_MODEL_cbf3800cfe9441dc8b557d0ccd94927e",
            "_dom_classes": [],
            "description": "Downloading: 100%",
            "_model_name": "FloatProgressModel",
            "bar_style": "success",
            "max": 442,
            "_view_module": "@jupyter-widgets/controls",
            "_model_module_version": "1.5.0",
            "value": 442,
            "_view_count": null,
            "_view_module_version": "1.5.0",
            "orientation": "horizontal",
            "min": 0,
            "description_tooltip": null,
            "_model_module": "@jupyter-widgets/controls",
            "layout": "IPY_MODEL_d93f4846c6c34238b8ead8b0f4125dbe"
          }
        },
        "67eaa3f08f424d5fa358724b57ecac12": {
          "model_module": "@jupyter-widgets/controls",
          "model_name": "HTMLModel",
          "state": {
            "_view_name": "HTMLView",
            "style": "IPY_MODEL_c966385871b44a59b9d6995b1b1f970b",
            "_dom_classes": [],
            "description": "",
            "_model_name": "HTMLModel",
            "placeholder": "​",
            "_view_module": "@jupyter-widgets/controls",
            "_model_module_version": "1.5.0",
            "value": " 442/442 [00:05&lt;00:00, 76.4B/s]",
            "_view_count": null,
            "_view_module_version": "1.5.0",
            "description_tooltip": null,
            "_model_module": "@jupyter-widgets/controls",
            "layout": "IPY_MODEL_a71ca75776934f55b78aa1d2c25f0ec9"
          }
        },
        "cbf3800cfe9441dc8b557d0ccd94927e": {
          "model_module": "@jupyter-widgets/controls",
          "model_name": "ProgressStyleModel",
          "state": {
            "_view_name": "StyleView",
            "_model_name": "ProgressStyleModel",
            "description_width": "initial",
            "_view_module": "@jupyter-widgets/base",
            "_model_module_version": "1.5.0",
            "_view_count": null,
            "_view_module_version": "1.2.0",
            "bar_color": null,
            "_model_module": "@jupyter-widgets/controls"
          }
        },
        "d93f4846c6c34238b8ead8b0f4125dbe": {
          "model_module": "@jupyter-widgets/base",
          "model_name": "LayoutModel",
          "state": {
            "_view_name": "LayoutView",
            "grid_template_rows": null,
            "right": null,
            "justify_content": null,
            "_view_module": "@jupyter-widgets/base",
            "overflow": null,
            "_model_module_version": "1.2.0",
            "_view_count": null,
            "flex_flow": null,
            "width": null,
            "min_width": null,
            "border": null,
            "align_items": null,
            "bottom": null,
            "_model_module": "@jupyter-widgets/base",
            "top": null,
            "grid_column": null,
            "overflow_y": null,
            "overflow_x": null,
            "grid_auto_flow": null,
            "grid_area": null,
            "grid_template_columns": null,
            "flex": null,
            "_model_name": "LayoutModel",
            "justify_items": null,
            "grid_row": null,
            "max_height": null,
            "align_content": null,
            "visibility": null,
            "align_self": null,
            "height": null,
            "min_height": null,
            "padding": null,
            "grid_auto_rows": null,
            "grid_gap": null,
            "max_width": null,
            "order": null,
            "_view_module_version": "1.2.0",
            "grid_template_areas": null,
            "object_position": null,
            "object_fit": null,
            "grid_auto_columns": null,
            "margin": null,
            "display": null,
            "left": null
          }
        },
        "c966385871b44a59b9d6995b1b1f970b": {
          "model_module": "@jupyter-widgets/controls",
          "model_name": "DescriptionStyleModel",
          "state": {
            "_view_name": "StyleView",
            "_model_name": "DescriptionStyleModel",
            "description_width": "",
            "_view_module": "@jupyter-widgets/base",
            "_model_module_version": "1.5.0",
            "_view_count": null,
            "_view_module_version": "1.2.0",
            "_model_module": "@jupyter-widgets/controls"
          }
        },
        "a71ca75776934f55b78aa1d2c25f0ec9": {
          "model_module": "@jupyter-widgets/base",
          "model_name": "LayoutModel",
          "state": {
            "_view_name": "LayoutView",
            "grid_template_rows": null,
            "right": null,
            "justify_content": null,
            "_view_module": "@jupyter-widgets/base",
            "overflow": null,
            "_model_module_version": "1.2.0",
            "_view_count": null,
            "flex_flow": null,
            "width": null,
            "min_width": null,
            "border": null,
            "align_items": null,
            "bottom": null,
            "_model_module": "@jupyter-widgets/base",
            "top": null,
            "grid_column": null,
            "overflow_y": null,
            "overflow_x": null,
            "grid_auto_flow": null,
            "grid_area": null,
            "grid_template_columns": null,
            "flex": null,
            "_model_name": "LayoutModel",
            "justify_items": null,
            "grid_row": null,
            "max_height": null,
            "align_content": null,
            "visibility": null,
            "align_self": null,
            "height": null,
            "min_height": null,
            "padding": null,
            "grid_auto_rows": null,
            "grid_gap": null,
            "max_width": null,
            "order": null,
            "_view_module_version": "1.2.0",
            "grid_template_areas": null,
            "object_position": null,
            "object_fit": null,
            "grid_auto_columns": null,
            "margin": null,
            "display": null,
            "left": null
          }
        },
        "d71895ab0fb944c1a99c9da6723f9ee0": {
          "model_module": "@jupyter-widgets/controls",
          "model_name": "HBoxModel",
          "state": {
            "_view_name": "HBoxView",
            "_dom_classes": [],
            "_model_name": "HBoxModel",
            "_view_module": "@jupyter-widgets/controls",
            "_model_module_version": "1.5.0",
            "_view_count": null,
            "_view_module_version": "1.5.0",
            "box_style": "",
            "layout": "IPY_MODEL_c991917b2afb4980b375ac24a4af293e",
            "_model_module": "@jupyter-widgets/controls",
            "children": [
              "IPY_MODEL_07bcaa9c5d8d44f8ac8ddf9c4d41514c",
              "IPY_MODEL_3d35090b2f6c4c4d8dc568681f362429"
            ]
          }
        },
        "c991917b2afb4980b375ac24a4af293e": {
          "model_module": "@jupyter-widgets/base",
          "model_name": "LayoutModel",
          "state": {
            "_view_name": "LayoutView",
            "grid_template_rows": null,
            "right": null,
            "justify_content": null,
            "_view_module": "@jupyter-widgets/base",
            "overflow": null,
            "_model_module_version": "1.2.0",
            "_view_count": null,
            "flex_flow": null,
            "width": null,
            "min_width": null,
            "border": null,
            "align_items": null,
            "bottom": null,
            "_model_module": "@jupyter-widgets/base",
            "top": null,
            "grid_column": null,
            "overflow_y": null,
            "overflow_x": null,
            "grid_auto_flow": null,
            "grid_area": null,
            "grid_template_columns": null,
            "flex": null,
            "_model_name": "LayoutModel",
            "justify_items": null,
            "grid_row": null,
            "max_height": null,
            "align_content": null,
            "visibility": null,
            "align_self": null,
            "height": null,
            "min_height": null,
            "padding": null,
            "grid_auto_rows": null,
            "grid_gap": null,
            "max_width": null,
            "order": null,
            "_view_module_version": "1.2.0",
            "grid_template_areas": null,
            "object_position": null,
            "object_fit": null,
            "grid_auto_columns": null,
            "margin": null,
            "display": null,
            "left": null
          }
        },
        "07bcaa9c5d8d44f8ac8ddf9c4d41514c": {
          "model_module": "@jupyter-widgets/controls",
          "model_name": "FloatProgressModel",
          "state": {
            "_view_name": "ProgressView",
            "style": "IPY_MODEL_94c17efabc604218992ce62722cf2d93",
            "_dom_classes": [],
            "description": "Downloading: 100%",
            "_model_name": "FloatProgressModel",
            "bar_style": "success",
            "max": 267967963,
            "_view_module": "@jupyter-widgets/controls",
            "_model_module_version": "1.5.0",
            "value": 267967963,
            "_view_count": null,
            "_view_module_version": "1.5.0",
            "orientation": "horizontal",
            "min": 0,
            "description_tooltip": null,
            "_model_module": "@jupyter-widgets/controls",
            "layout": "IPY_MODEL_62f17f9ff5464f44b4bfa7ff41fb43b6"
          }
        },
        "3d35090b2f6c4c4d8dc568681f362429": {
          "model_module": "@jupyter-widgets/controls",
          "model_name": "HTMLModel",
          "state": {
            "_view_name": "HTMLView",
            "style": "IPY_MODEL_b9f409bfb0dd42fd97a5bb2ae1fca9e0",
            "_dom_classes": [],
            "description": "",
            "_model_name": "HTMLModel",
            "placeholder": "​",
            "_view_module": "@jupyter-widgets/controls",
            "_model_module_version": "1.5.0",
            "value": " 268M/268M [00:05&lt;00:00, 49.4MB/s]",
            "_view_count": null,
            "_view_module_version": "1.5.0",
            "description_tooltip": null,
            "_model_module": "@jupyter-widgets/controls",
            "layout": "IPY_MODEL_a139500eef8340a79d4712b9ca4dbb05"
          }
        },
        "94c17efabc604218992ce62722cf2d93": {
          "model_module": "@jupyter-widgets/controls",
          "model_name": "ProgressStyleModel",
          "state": {
            "_view_name": "StyleView",
            "_model_name": "ProgressStyleModel",
            "description_width": "initial",
            "_view_module": "@jupyter-widgets/base",
            "_model_module_version": "1.5.0",
            "_view_count": null,
            "_view_module_version": "1.2.0",
            "bar_color": null,
            "_model_module": "@jupyter-widgets/controls"
          }
        },
        "62f17f9ff5464f44b4bfa7ff41fb43b6": {
          "model_module": "@jupyter-widgets/base",
          "model_name": "LayoutModel",
          "state": {
            "_view_name": "LayoutView",
            "grid_template_rows": null,
            "right": null,
            "justify_content": null,
            "_view_module": "@jupyter-widgets/base",
            "overflow": null,
            "_model_module_version": "1.2.0",
            "_view_count": null,
            "flex_flow": null,
            "width": null,
            "min_width": null,
            "border": null,
            "align_items": null,
            "bottom": null,
            "_model_module": "@jupyter-widgets/base",
            "top": null,
            "grid_column": null,
            "overflow_y": null,
            "overflow_x": null,
            "grid_auto_flow": null,
            "grid_area": null,
            "grid_template_columns": null,
            "flex": null,
            "_model_name": "LayoutModel",
            "justify_items": null,
            "grid_row": null,
            "max_height": null,
            "align_content": null,
            "visibility": null,
            "align_self": null,
            "height": null,
            "min_height": null,
            "padding": null,
            "grid_auto_rows": null,
            "grid_gap": null,
            "max_width": null,
            "order": null,
            "_view_module_version": "1.2.0",
            "grid_template_areas": null,
            "object_position": null,
            "object_fit": null,
            "grid_auto_columns": null,
            "margin": null,
            "display": null,
            "left": null
          }
        },
        "b9f409bfb0dd42fd97a5bb2ae1fca9e0": {
          "model_module": "@jupyter-widgets/controls",
          "model_name": "DescriptionStyleModel",
          "state": {
            "_view_name": "StyleView",
            "_model_name": "DescriptionStyleModel",
            "description_width": "",
            "_view_module": "@jupyter-widgets/base",
            "_model_module_version": "1.5.0",
            "_view_count": null,
            "_view_module_version": "1.2.0",
            "_model_module": "@jupyter-widgets/controls"
          }
        },
        "a139500eef8340a79d4712b9ca4dbb05": {
          "model_module": "@jupyter-widgets/base",
          "model_name": "LayoutModel",
          "state": {
            "_view_name": "LayoutView",
            "grid_template_rows": null,
            "right": null,
            "justify_content": null,
            "_view_module": "@jupyter-widgets/base",
            "overflow": null,
            "_model_module_version": "1.2.0",
            "_view_count": null,
            "flex_flow": null,
            "width": null,
            "min_width": null,
            "border": null,
            "align_items": null,
            "bottom": null,
            "_model_module": "@jupyter-widgets/base",
            "top": null,
            "grid_column": null,
            "overflow_y": null,
            "overflow_x": null,
            "grid_auto_flow": null,
            "grid_area": null,
            "grid_template_columns": null,
            "flex": null,
            "_model_name": "LayoutModel",
            "justify_items": null,
            "grid_row": null,
            "max_height": null,
            "align_content": null,
            "visibility": null,
            "align_self": null,
            "height": null,
            "min_height": null,
            "padding": null,
            "grid_auto_rows": null,
            "grid_gap": null,
            "max_width": null,
            "order": null,
            "_view_module_version": "1.2.0",
            "grid_template_areas": null,
            "object_position": null,
            "object_fit": null,
            "grid_auto_columns": null,
            "margin": null,
            "display": null,
            "left": null
          }
        }
      }
    }
  },
  "cells": [
    {
      "cell_type": "markdown",
      "metadata": {
        "id": "view-in-github",
        "colab_type": "text"
      },
      "source": [
        "<a href=\"https://colab.research.google.com/github/Meaveryway/ML_Tests/blob/master/%5BPFE_Anti_Plagiat%5D_BERT_Tests.ipynb\" target=\"_parent\"><img src=\"https://colab.research.google.com/assets/colab-badge.svg\" alt=\"Open In Colab\"/></a>"
      ]
    },
    {
      "cell_type": "code",
      "metadata": {
        "id": "eWHjO3T7n1EU",
        "colab": {
          "base_uri": "https://localhost:8080/"
        },
        "outputId": "ef1a3ef6-8329-4b5e-d3a3-303f7632740c"
      },
      "source": [
        "!pip install transformers"
      ],
      "execution_count": null,
      "outputs": [
        {
          "output_type": "stream",
          "text": [
            "Collecting transformers\n",
            "\u001b[?25l  Downloading https://files.pythonhosted.org/packages/50/0c/7d5950fcd80b029be0a8891727ba21e0cd27692c407c51261c3c921f6da3/transformers-4.1.1-py3-none-any.whl (1.5MB)\n",
            "\u001b[K     |████████████████████████████████| 1.5MB 9.0MB/s \n",
            "\u001b[?25hCollecting tokenizers==0.9.4\n",
            "\u001b[?25l  Downloading https://files.pythonhosted.org/packages/0f/1c/e789a8b12e28be5bc1ce2156cf87cb522b379be9cadc7ad8091a4cc107c4/tokenizers-0.9.4-cp36-cp36m-manylinux2010_x86_64.whl (2.9MB)\n",
            "\u001b[K     |████████████████████████████████| 2.9MB 44.8MB/s \n",
            "\u001b[?25hCollecting sacremoses\n",
            "\u001b[?25l  Downloading https://files.pythonhosted.org/packages/7d/34/09d19aff26edcc8eb2a01bed8e98f13a1537005d31e95233fd48216eed10/sacremoses-0.0.43.tar.gz (883kB)\n",
            "\u001b[K     |████████████████████████████████| 890kB 49.3MB/s \n",
            "\u001b[?25hRequirement already satisfied: regex!=2019.12.17 in /usr/local/lib/python3.6/dist-packages (from transformers) (2019.12.20)\n",
            "Requirement already satisfied: requests in /usr/local/lib/python3.6/dist-packages (from transformers) (2.23.0)\n",
            "Requirement already satisfied: tqdm>=4.27 in /usr/local/lib/python3.6/dist-packages (from transformers) (4.41.1)\n",
            "Requirement already satisfied: dataclasses; python_version < \"3.7\" in /usr/local/lib/python3.6/dist-packages (from transformers) (0.8)\n",
            "Requirement already satisfied: numpy in /usr/local/lib/python3.6/dist-packages (from transformers) (1.19.4)\n",
            "Requirement already satisfied: filelock in /usr/local/lib/python3.6/dist-packages (from transformers) (3.0.12)\n",
            "Requirement already satisfied: packaging in /usr/local/lib/python3.6/dist-packages (from transformers) (20.8)\n",
            "Requirement already satisfied: six in /usr/local/lib/python3.6/dist-packages (from sacremoses->transformers) (1.15.0)\n",
            "Requirement already satisfied: click in /usr/local/lib/python3.6/dist-packages (from sacremoses->transformers) (7.1.2)\n",
            "Requirement already satisfied: joblib in /usr/local/lib/python3.6/dist-packages (from sacremoses->transformers) (1.0.0)\n",
            "Requirement already satisfied: idna<3,>=2.5 in /usr/local/lib/python3.6/dist-packages (from requests->transformers) (2.10)\n",
            "Requirement already satisfied: certifi>=2017.4.17 in /usr/local/lib/python3.6/dist-packages (from requests->transformers) (2020.12.5)\n",
            "Requirement already satisfied: urllib3!=1.25.0,!=1.25.1,<1.26,>=1.21.1 in /usr/local/lib/python3.6/dist-packages (from requests->transformers) (1.24.3)\n",
            "Requirement already satisfied: chardet<4,>=3.0.2 in /usr/local/lib/python3.6/dist-packages (from requests->transformers) (3.0.4)\n",
            "Requirement already satisfied: pyparsing>=2.0.2 in /usr/local/lib/python3.6/dist-packages (from packaging->transformers) (2.4.7)\n",
            "Building wheels for collected packages: sacremoses\n",
            "  Building wheel for sacremoses (setup.py) ... \u001b[?25l\u001b[?25hdone\n",
            "  Created wheel for sacremoses: filename=sacremoses-0.0.43-cp36-none-any.whl size=893261 sha256=efb26568577bfb43146d28970cbfd81656a642ed70b7a75bda0b7c426a317c54\n",
            "  Stored in directory: /root/.cache/pip/wheels/29/3c/fd/7ce5c3f0666dab31a50123635e6fb5e19ceb42ce38d4e58f45\n",
            "Successfully built sacremoses\n",
            "Installing collected packages: tokenizers, sacremoses, transformers\n",
            "Successfully installed sacremoses-0.0.43 tokenizers-0.9.4 transformers-4.1.1\n"
          ],
          "name": "stdout"
        }
      ]
    },
    {
      "cell_type": "code",
      "metadata": {
        "id": "ZN7d7r9kn-gK"
      },
      "source": [
        "import numpy as np\n",
        "import pandas as pd\n",
        "import seaborn as sns\n",
        "from matplotlib import pyplot as plt\n",
        "from matplotlib.patches import Rectangle\n",
        "\n",
        "import torch\n",
        "import transformers as ppb\n",
        "import warnings\n",
        "warnings.filterwarnings('ignore')"
      ],
      "execution_count": null,
      "outputs": []
    },
    {
      "cell_type": "code",
      "metadata": {
        "id": "et-yIW9PzetF"
      },
      "source": [
        "# Dataframes en mode interactif\n",
        "%load_ext google.colab.data_table\n",
        "# %unload_ext google.colab.data_table"
      ],
      "execution_count": null,
      "outputs": []
    },
    {
      "cell_type": "code",
      "metadata": {
        "id": "usQ51l4a1bIs"
      },
      "source": [
        "# Formattage des nombres lors de l'affichage des numpy arrays.\n",
        "float_formatter = \"{:.3f}\".format\n",
        "np.set_printoptions(formatter={'float_kind':float_formatter})"
      ],
      "execution_count": null,
      "outputs": []
    },
    {
      "cell_type": "markdown",
      "metadata": {
        "id": "hlMnchTuuN09"
      },
      "source": [
        "### Accès à Google Drive"
      ]
    },
    {
      "cell_type": "code",
      "metadata": {
        "colab": {
          "base_uri": "https://localhost:8080/"
        },
        "id": "6HJBma3KOk2c",
        "outputId": "b07c813f-9505-40e9-8f1b-35c4370bc0d2"
      },
      "source": [
        "from google.colab import drive\n",
        "drive.mount('/content/gdrive')"
      ],
      "execution_count": null,
      "outputs": [
        {
          "output_type": "stream",
          "text": [
            "Mounted at /content/gdrive\n"
          ],
          "name": "stdout"
        }
      ]
    },
    {
      "cell_type": "markdown",
      "metadata": {
        "id": "FW6dPmODoQqU"
      },
      "source": [
        "# **BERT: Text similarity assessment**\n",
        "DistilBERT est une version allégée et beaucoup plus rapide de BERT, avec une perte en performance assez minime"
      ]
    },
    {
      "cell_type": "code",
      "metadata": {
        "colab": {
          "base_uri": "https://localhost:8080/",
          "height": 115,
          "referenced_widgets": [
            "45fe0f476ed2498da82b3742b24decf3",
            "ebe5ead9822346a5ab81c452c839f666",
            "1cafa7fdb3284542988c8a22dd16c2c2",
            "67eaa3f08f424d5fa358724b57ecac12",
            "cbf3800cfe9441dc8b557d0ccd94927e",
            "d93f4846c6c34238b8ead8b0f4125dbe",
            "c966385871b44a59b9d6995b1b1f970b",
            "a71ca75776934f55b78aa1d2c25f0ec9",
            "d71895ab0fb944c1a99c9da6723f9ee0",
            "c991917b2afb4980b375ac24a4af293e",
            "07bcaa9c5d8d44f8ac8ddf9c4d41514c",
            "3d35090b2f6c4c4d8dc568681f362429",
            "94c17efabc604218992ce62722cf2d93",
            "62f17f9ff5464f44b4bfa7ff41fb43b6",
            "b9f409bfb0dd42fd97a5bb2ae1fca9e0",
            "a139500eef8340a79d4712b9ca4dbb05"
          ]
        },
        "id": "M9fyZvwToYkq",
        "outputId": "7abcb9fb-c211-4274-a627-e13c35ef420c"
      },
      "source": [
        "# Pour DistilBERT:\n",
        "model_class, tokenizer_class, pretrained_weights = (ppb.DistilBertModel, ppb.DistilBertTokenizer, 'distilbert-base-uncased')\n",
        "\n",
        "# Pour BERT standard\n",
        "#model_class, tokenizer_class, pretrained_weights = (ppb.BertModel, ppb.BertTokenizer, 'bert-base-uncased')\n",
        "\n",
        "# model & tokenizer pré-entrainé\n",
        "tokenizer = tokenizer_class.from_pretrained(pretrained_weights)\n",
        "model = model_class.from_pretrained(pretrained_weights)"
      ],
      "execution_count": null,
      "outputs": [
        {
          "output_type": "display_data",
          "data": {
            "application/vnd.jupyter.widget-view+json": {
              "model_id": "45fe0f476ed2498da82b3742b24decf3",
              "version_minor": 0,
              "version_major": 2
            },
            "text/plain": [
              "HBox(children=(FloatProgress(value=0.0, description='Downloading', max=442.0, style=ProgressStyle(description_…"
            ]
          },
          "metadata": {
            "tags": []
          }
        },
        {
          "output_type": "stream",
          "text": [
            "\n"
          ],
          "name": "stdout"
        },
        {
          "output_type": "display_data",
          "data": {
            "application/vnd.jupyter.widget-view+json": {
              "model_id": "d71895ab0fb944c1a99c9da6723f9ee0",
              "version_minor": 0,
              "version_major": 2
            },
            "text/plain": [
              "HBox(children=(FloatProgress(value=0.0, description='Downloading', max=267967963.0, style=ProgressStyle(descri…"
            ]
          },
          "metadata": {
            "tags": []
          }
        },
        {
          "output_type": "stream",
          "text": [
            "\n"
          ],
          "name": "stdout"
        }
      ]
    },
    {
      "cell_type": "markdown",
      "metadata": {
        "id": "eAbODEedvTN4"
      },
      "source": [
        "## Testing data\n",
        "BERT prend en entrée des phrases entières. Il s'agit donc juste de pairs de phrases (en anglais) prises du jeu d'essai du survey:\n",
        "*   Phrases d'un document de plagiat verbatim & leurs équivalents paraphrasés.\n",
        "Les pairs sont:\n",
        "  *   [0, 4] \n",
        "  *   [1, 2] \n",
        "  *   [3, 5]\n",
        "  *   [6, 7]\n",
        "\n",
        "\n",
        "\n"
      ]
    },
    {
      "cell_type": "code",
      "metadata": {
        "colab": {
          "base_uri": "https://localhost:8080/",
          "height": 470
        },
        "id": "BoDhDTEVr0-p",
        "outputId": "bfaf0ac9-faf3-4068-d98d-ba2d988437d7"
      },
      "source": [
        "data = pd.read_csv('/content/gdrive/MyDrive/PFE - Anti-Plagiat/strings.csv', delimiter=';', header=None)\n",
        "data[0][8] = \"While the modern concept of sustainable development is yet derived mostly from the 1987 Brundtland Report, it is also rooted in earlier ideas about sustainable forest management and twentieth-century environmental concerns. As the concept of sustainable development developed, it has shifted its focus more towards the economic development, social development and environmental protection for future generations. It has been suggested that the term 'sustainability' should be viewed as humanity's target goal of human-ecosystem equilibrium, while 'sustainable development' refers to the holistic approach and temporal processes that lead us to the endpoint of sustainability. Modern economies are endeavouring to reconcile ambitious economic development and obligations of preserving natural resources and ecosystems, as the two are usually seen as of conflicting nature. Instead of holding climate change commitments and other sustainability measures as a remedy to economic development, turning and leveraging them into market opportunities will do greater good. The economic development brought by such organized principles and practices in an economy is called Managed Sustainable Development (MSD). While the modern concept of sustainable development is yet derived mostly from the 1987 Brundtland Report, it is also rooted in earlier ideas about sustainable forest management and twentieth-century environmental concerns. As the concept of sustainable development developed, it has shifted its focus more towards the economic development, social development and environmental protection for future generations. It has been suggested that the term 'sustainability' should be viewed as humanity's target goal of human-ecosystem equilibrium, while 'sustainable development' refers to the holistic approach and temporal processes that lead us to the endpoint of sustainability. Modern economies are endeavouring to reconcile ambitious economic development and obligations of preserving natural resources and ecosystems, as the two are usually seen as of conflicting nature. Instead of holding climate change commitments and other sustainability measures as a remedy to economic development, turning and leveraging them into market opportunities will do greater good. The economic development brought by such organized principles and practices in an economy is called Managed Sustainable Development (MSD). \"\n",
        "data = data[:9]\n",
        "plag_pairs = [(0, 4), (1, 2), (3, 5), (6, 7)]\n",
        "data"
      ],
      "execution_count": null,
      "outputs": [
        {
          "output_type": "execute_result",
          "data": {
            "application/vnd.google.colaboratory.module+javascript": "\n      import \"https://ssl.gstatic.com/colaboratory/data_table/a6224c040fa35dcf/data_table.js\";\n\n      window.createDataTable({\n        data: [[{\n            'v': 0,\n            'f': \"0\",\n        },\n\" It\\u2019s all the more important because the future for oil and gas companies is more uncertain than ever, which makes the future of their pipelines more uncertain,\",\n{\n            'v': NaN,\n            'f': \"NaN\",\n        }],\n [{\n            'v': 1,\n            'f': \"1\",\n        },\n\"An estimated 140 million people lost their jobs after India locked down its economy in March to stop the outbreak\",\n{\n            'v': NaN,\n            'f': \"NaN\",\n        }],\n [{\n            'v': 2,\n            'f': \"2\",\n        },\n\"An evaluated 140 million individuals misplaced their employments after India bolted down its economy in Walk to halt the flare-up\",\n{\n            'v': NaN,\n            'f': \"NaN\",\n        }],\n [{\n            'v': 3,\n            'f': \"3\",\n        },\n\"As the lockdown was eased, many went back to work, but more than six million people who lost jobs haven\\u2019t found new employment.\",\n{\n            'v': NaN,\n            'f': \"NaN\",\n        }],\n [{\n            'v': 4,\n            'f': \"4\",\n        },\n\"t\\u2019s all the more vital since the long run for oil and gas companies is more questionable than ever, which makes long-term of their pipelines more questionable\",\n{\n            'v': NaN,\n            'f': \"NaN\",\n        }],\n [{\n            'v': 5,\n            'f': \"5\",\n        },\n\"As the lockdown was facilitated, numerous went back to work, but more than six million individuals who misplaced occupations haven\\u2019t found unused employment\",\n{\n            'v': NaN,\n            'f': \"NaN\",\n        }],\n [{\n            'v': 6,\n            'f': \"6\",\n        },\n\"while many others saw their salaries drastically reduced, the Mumbai-based Center for Monitoring Indian Economy said\",\n{\n            'v': NaN,\n            'f': \"NaN\",\n        }],\n [{\n            'v': 7,\n            'f': \"7\",\n        },\n\"whereas numerous others saw their pay rates definitely decreased, the Mumbai-based Center for Observing Indian Economy said\",\n{\n            'v': NaN,\n            'f': \"NaN\",\n        }],\n [{\n            'v': 8,\n            'f': \"8\",\n        },\n\"While the modern concept of sustainable development is yet derived mostly from the 1987 Brundtland Report, it is also rooted in earlier ideas about sustainable forest management and twentieth-century environmental concerns. As the concept of sustainable development developed, it has shifted its focus more towards the economic development, social development and environmental protection for future generations. It has been suggested that the term 'sustainability' should be viewed as humanity's target goal of human-ecosystem equilibrium, while 'sustainable development' refers to the holistic approach and temporal processes that lead us to the endpoint of sustainability. Modern economies are endeavouring to reconcile ambitious economic development and obligations of preserving natural resources and ecosystems, as the two are usually seen as of conflicting nature. Instead of holding climate change commitments and other sustainability measures as a remedy to economic development, turning and leveraging them into market opportunities will do greater good. The economic development brought by such organized principles and practices in an economy is called Managed Sustainable Development (MSD). While the modern concept of sustainable development is yet derived mostly from the 1987 Brundtland Report, it is also rooted in earlier ideas about sustainable forest management and twentieth-century environmental concerns. As the concept of sustainable development developed, it has shifted its focus more towards the economic development, social development and environmental protection for future generations. It has been suggested that the term 'sustainability' should be viewed as humanity's target goal of human-ecosystem equilibrium, while 'sustainable development' refers to the holistic approach and temporal processes that lead us to the endpoint of sustainability. Modern economies are endeavouring to reconcile ambitious economic development and obligations of preserving natural resources and ecosystems, as the two are usually seen as of conflicting nature. Instead of holding climate change commitments and other sustainability measures as a remedy to economic development, turning and leveraging them into market opportunities will do greater good. The economic development brought by such organized principles and practices in an economy is called Managed Sustainable Development (MSD). \",\n{\n            'v': NaN,\n            'f': \"NaN\",\n        }]],\n        columns: [[\"number\", \"index\"], [\"string\", \"0\"], [\"number\", \"1\"]],\n        columnOptions: [{\"width\": \"1px\", \"className\": \"index_column\"}],\n        rowsPerPage: 25,\n        helpUrl: \"https://colab.research.google.com/notebooks/data_table.ipynb\",\n        suppressOutputScrolling: true,\n        minimumWidth: undefined,\n      });\n    ",
            "text/html": [
              "<div>\n",
              "<style scoped>\n",
              "    .dataframe tbody tr th:only-of-type {\n",
              "        vertical-align: middle;\n",
              "    }\n",
              "\n",
              "    .dataframe tbody tr th {\n",
              "        vertical-align: top;\n",
              "    }\n",
              "\n",
              "    .dataframe thead th {\n",
              "        text-align: right;\n",
              "    }\n",
              "</style>\n",
              "<table border=\"1\" class=\"dataframe\">\n",
              "  <thead>\n",
              "    <tr style=\"text-align: right;\">\n",
              "      <th></th>\n",
              "      <th>0</th>\n",
              "      <th>1</th>\n",
              "    </tr>\n",
              "  </thead>\n",
              "  <tbody>\n",
              "    <tr>\n",
              "      <th>0</th>\n",
              "      <td>It’s all the more important because the futur...</td>\n",
              "      <td>NaN</td>\n",
              "    </tr>\n",
              "    <tr>\n",
              "      <th>1</th>\n",
              "      <td>An estimated 140 million people lost their job...</td>\n",
              "      <td>NaN</td>\n",
              "    </tr>\n",
              "    <tr>\n",
              "      <th>2</th>\n",
              "      <td>An evaluated 140 million individuals misplaced...</td>\n",
              "      <td>NaN</td>\n",
              "    </tr>\n",
              "    <tr>\n",
              "      <th>3</th>\n",
              "      <td>As the lockdown was eased, many went back to w...</td>\n",
              "      <td>NaN</td>\n",
              "    </tr>\n",
              "    <tr>\n",
              "      <th>4</th>\n",
              "      <td>t’s all the more vital since the long run for ...</td>\n",
              "      <td>NaN</td>\n",
              "    </tr>\n",
              "    <tr>\n",
              "      <th>5</th>\n",
              "      <td>As the lockdown was facilitated, numerous went...</td>\n",
              "      <td>NaN</td>\n",
              "    </tr>\n",
              "    <tr>\n",
              "      <th>6</th>\n",
              "      <td>while many others saw their salaries drastical...</td>\n",
              "      <td>NaN</td>\n",
              "    </tr>\n",
              "    <tr>\n",
              "      <th>7</th>\n",
              "      <td>whereas numerous others saw their pay rates de...</td>\n",
              "      <td>NaN</td>\n",
              "    </tr>\n",
              "    <tr>\n",
              "      <th>8</th>\n",
              "      <td>While the modern concept of sustainable develo...</td>\n",
              "      <td>NaN</td>\n",
              "    </tr>\n",
              "  </tbody>\n",
              "</table>\n",
              "</div>"
            ],
            "text/plain": [
              "                                                   0   1\n",
              "0   It’s all the more important because the futur... NaN\n",
              "1  An estimated 140 million people lost their job... NaN\n",
              "2  An evaluated 140 million individuals misplaced... NaN\n",
              "3  As the lockdown was eased, many went back to w... NaN\n",
              "4  t’s all the more vital since the long run for ... NaN\n",
              "5  As the lockdown was facilitated, numerous went... NaN\n",
              "6  while many others saw their salaries drastical... NaN\n",
              "7  whereas numerous others saw their pay rates de... NaN\n",
              "8  While the modern concept of sustainable develo... NaN"
            ]
          },
          "metadata": {
            "tags": []
          },
          "execution_count": 54
        }
      ]
    },
    {
      "cell_type": "markdown",
      "metadata": {
        "id": "rOYkCKTPww-s"
      },
      "source": [
        "## Preprocessing\n",
        "Les étapes de pré-traitement suivantes sont propres aux modèles BERT:\n",
        "1.   Tokenisation des phrases en mots et sous-mots (similaire à du stemming mais qui préserve tout) + ajouts des jetons CLS et SEP + remplacement de chaque jeton par son ID.\n",
        "2.   Padding: afin d'avoir des vecteurs de même taille (= à la taille du plus long vecteur) afin d'avoir une matrice qui est beaucoup plus rapide à traiter qu'une liste de vecteurs.\n",
        "3.   Génération du masque: complémente le padding pour différencier ce qui est du texte et ce qui est juste du padding. Il s'agit de vecteurs avec des 0 là où il s'agit d'un pad, 1 sinon.\n",
        "\n"
      ]
    },
    {
      "cell_type": "markdown",
      "metadata": {
        "id": "ilcLbI9Xy5WT"
      },
      "source": [
        "### Tokenization"
      ]
    },
    {
      "cell_type": "code",
      "metadata": {
        "colab": {
          "base_uri": "https://localhost:8080/"
        },
        "id": "BtKdAcFOs0wz",
        "outputId": "1fa58ce7-2547-421f-ea41-c393124bd2c8"
      },
      "source": [
        "tokenized_data = data[0].apply((lambda x: tokenizer.encode(x, add_special_tokens=True)))\n",
        "tokenized_data"
      ],
      "execution_count": null,
      "outputs": [
        {
          "output_type": "execute_result",
          "data": {
            "text/plain": [
              "0    [101, 2009, 1521, 1055, 2035, 1996, 2062, 2590...\n",
              "1    [101, 2019, 4358, 8574, 2454, 2111, 2439, 2037...\n",
              "2    [101, 2019, 16330, 8574, 2454, 3633, 28616, 22...\n",
              "3    [101, 2004, 1996, 5843, 7698, 2001, 10987, 101...\n",
              "4    [101, 1056, 1521, 1055, 2035, 1996, 2062, 8995...\n",
              "5    [101, 2004, 1996, 5843, 7698, 2001, 19601, 101...\n",
              "6    [101, 2096, 2116, 2500, 2387, 2037, 20566, 210...\n",
              "7    [101, 6168, 3365, 2500, 2387, 2037, 3477, 6165...\n",
              "8    [101, 2096, 1996, 2715, 4145, 1997, 9084, 2458...\n",
              "Name: 0, dtype: object"
            ]
          },
          "metadata": {
            "tags": []
          },
          "execution_count": 55
        }
      ]
    },
    {
      "cell_type": "markdown",
      "metadata": {
        "id": "Xnj-dvzLy9Bk"
      },
      "source": [
        "### Padding"
      ]
    },
    {
      "cell_type": "code",
      "metadata": {
        "id": "0JSDkaWSs6KP"
      },
      "source": [
        "max_len = 0\n",
        "for i in tokenized_data.values:\n",
        "    if len(i) > max_len:\n",
        "        max_len = len(i)\n",
        "\n",
        "padded_data = np.array([i + [0]*(max_len-len(i)) for i in tokenized_data.values])"
      ],
      "execution_count": null,
      "outputs": []
    },
    {
      "cell_type": "code",
      "metadata": {
        "colab": {
          "base_uri": "https://localhost:8080/"
        },
        "id": "tmPi3Q-lwCW7",
        "outputId": "b36b10f3-22a5-472b-e5fd-d808376fe702"
      },
      "source": [
        "print(np.array(padded_data).shape)\n",
        "#padded_data"
      ],
      "execution_count": null,
      "outputs": [
        {
          "output_type": "stream",
          "text": [
            "(9, 396)\n"
          ],
          "name": "stdout"
        }
      ]
    },
    {
      "cell_type": "markdown",
      "metadata": {
        "id": "805qlrMLzBj3"
      },
      "source": [
        "### Masking"
      ]
    },
    {
      "cell_type": "code",
      "metadata": {
        "colab": {
          "base_uri": "https://localhost:8080/"
        },
        "id": "hl4lcrpWwJDK",
        "outputId": "88751b2a-31cf-4d3a-944a-9b5c1e4c3ee3"
      },
      "source": [
        "attention_mask = np.where(padded_data != 0, 1, 0)\n",
        "attention_mask.shape"
      ],
      "execution_count": null,
      "outputs": [
        {
          "output_type": "execute_result",
          "data": {
            "text/plain": [
              "(9, 396)"
            ]
          },
          "metadata": {
            "tags": []
          },
          "execution_count": 58
        }
      ]
    },
    {
      "cell_type": "markdown",
      "metadata": {
        "id": "U7NAJJZzzP1T"
      },
      "source": [
        "## Processing\n",
        "On transforme les vecteurs de tokens en BERT embeddings en les injectant au modèle.\n",
        "\n",
        "- On récupère les outputs des 768 niveaux cachès de BERT sur **hidden_states**\n",
        "\n",
        "Pour notre cas, seuls les embeddings des phrases entières nous intéressent. Ceux-là sont mis dans les jetons [CLS] au début de chaque vecteur. On récupére donc juste la première colonne de chacune des 768 matrices."
      ]
    },
    {
      "cell_type": "code",
      "metadata": {
        "id": "u0LzKjABwjWW"
      },
      "source": [
        "input_ids = torch.tensor(padded_data)  \n",
        "attention_mask = torch.tensor(attention_mask)\n",
        "\n",
        "with torch.no_grad():\n",
        "    hidden_states = model(input_ids, attention_mask=attention_mask)"
      ],
      "execution_count": null,
      "outputs": []
    },
    {
      "cell_type": "code",
      "metadata": {
        "colab": {
          "base_uri": "https://localhost:8080/"
        },
        "id": "aRXeibTSw0nS",
        "outputId": "d201fa7f-4a6a-435d-9cf8-b50fa806ac14"
      },
      "source": [
        "hidden_states"
      ],
      "execution_count": null,
      "outputs": [
        {
          "output_type": "execute_result",
          "data": {
            "text/plain": [
              "BaseModelOutput([('last_hidden_state',\n",
              "                  tensor([[[ 0.0660, -0.0181, -0.0963,  ..., -0.0901,  0.5605,  0.2927],\n",
              "                           [-0.1691, -0.3056, -0.2971,  ...,  0.1781,  0.6015,  0.1504],\n",
              "                           [ 0.1936, -0.1980,  0.9554,  ...,  0.0653,  0.1003, -0.1532],\n",
              "                           ...,\n",
              "                           [ 0.1892, -0.2617,  0.1574,  ...,  0.0660,  0.1374,  0.1561],\n",
              "                           [ 0.2004, -0.1002,  0.1440,  ...,  0.0536,  0.0455, -0.0287],\n",
              "                           [ 0.1837, -0.1760,  0.0588,  ...,  0.1419,  0.0128,  0.0611]],\n",
              "                  \n",
              "                          [[-0.1571, -0.2777, -0.2036,  ..., -0.2306,  0.2623,  0.0264],\n",
              "                           [-0.0872, -0.0878, -0.4473,  ..., -0.0924,  0.7465, -0.0404],\n",
              "                           [ 0.0802, -0.1467, -0.2955,  ..., -0.2977,  0.2818, -0.3092],\n",
              "                           ...,\n",
              "                           [ 0.3007, -0.1435,  0.1085,  ..., -0.0463,  0.0263, -0.0594],\n",
              "                           [-0.0507, -0.3172, -0.1036,  ...,  0.0982, -0.1093, -0.1933],\n",
              "                           [-0.0111, -0.1613, -0.1525,  ..., -0.0824,  0.0958,  0.0326]],\n",
              "                  \n",
              "                          [[-0.1488, -0.2434, -0.1742,  ..., -0.2935,  0.4946,  0.0173],\n",
              "                           [-0.2040, -0.0976, -0.1769,  ..., -0.0542,  0.8450,  0.0456],\n",
              "                           [ 0.0228, -0.0391, -0.1725,  ..., -0.0566,  0.2246, -0.3764],\n",
              "                           ...,\n",
              "                           [ 0.4015, -0.0851,  0.1687,  ..., -0.0373,  0.2350, -0.1161],\n",
              "                           [ 0.3764, -0.0920,  0.1532,  ..., -0.0266,  0.2089, -0.0962],\n",
              "                           [ 0.2416, -0.3126,  0.1257,  ...,  0.0086,  0.0133, -0.0302]],\n",
              "                  \n",
              "                          ...,\n",
              "                  \n",
              "                          [[-0.0586, -0.2773, -0.2403,  ..., -0.1439,  0.4054,  0.1640],\n",
              "                           [-0.2218, -0.0806, -0.3190,  ...,  0.0543,  0.3407,  0.2344],\n",
              "                           [-0.0780, -0.2394,  0.0754,  ..., -0.0118,  0.2520, -0.4598],\n",
              "                           ...,\n",
              "                           [ 0.0923, -0.1315,  0.0381,  ...,  0.0718, -0.0780, -0.1780],\n",
              "                           [ 0.1950, -0.0106,  0.0760,  ...,  0.0632, -0.0412, -0.0530],\n",
              "                           [ 0.2467, -0.0424,  0.1044,  ...,  0.0547, -0.0156, -0.0979]],\n",
              "                  \n",
              "                          [[-0.0013, -0.2375, -0.1613,  ..., -0.1707,  0.5304,  0.1580],\n",
              "                           [-0.0106,  0.0553, -0.1526,  ...,  0.0270,  0.6671,  0.2223],\n",
              "                           [ 0.2055, -0.1589,  0.1858,  ...,  0.0124,  0.2836, -0.3912],\n",
              "                           ...,\n",
              "                           [ 0.2052, -0.1683,  0.2087,  ...,  0.0671,  0.0647, -0.2393],\n",
              "                           [ 0.1362, -0.1821,  0.1053,  ...,  0.0523,  0.0880, -0.2570],\n",
              "                           [ 0.3407, -0.1042,  0.1517,  ...,  0.0491,  0.1394, -0.2300]],\n",
              "                  \n",
              "                          [[-0.3254,  0.0134, -0.2558,  ..., -0.3048,  0.3131,  0.3625],\n",
              "                           [-0.8648,  0.4684, -0.5287,  ...,  0.2355,  0.4836,  0.8740],\n",
              "                           [-0.8763,  0.1353, -0.6612,  ...,  0.0565,  0.4924,  0.5527],\n",
              "                           ...,\n",
              "                           [-0.1863, -0.2192,  0.8590,  ..., -0.3422,  0.2093,  0.1310],\n",
              "                           [-0.1824, -0.5032, -0.2816,  ...,  0.5667, -0.2252, -0.3675],\n",
              "                           [-0.4564,  0.0230,  0.1357,  ...,  0.1021, -0.1001, -0.1471]]]))])"
            ]
          },
          "metadata": {
            "tags": []
          },
          "execution_count": 60
        }
      ]
    },
    {
      "cell_type": "code",
      "metadata": {
        "id": "XDe50nYHw9Ig",
        "colab": {
          "base_uri": "https://localhost:8080/"
        },
        "outputId": "c09f052d-10ca-421a-b37a-34cc6dcfa479"
      },
      "source": [
        "features = hidden_states[0][:,0,:].numpy()\n",
        "features"
      ],
      "execution_count": null,
      "outputs": [
        {
          "output_type": "execute_result",
          "data": {
            "text/plain": [
              "array([[0.066, -0.018, -0.096, ..., -0.090, 0.561, 0.293],\n",
              "       [-0.157, -0.278, -0.204, ..., -0.231, 0.262, 0.026],\n",
              "       [-0.149, -0.243, -0.174, ..., -0.294, 0.495, 0.017],\n",
              "       ...,\n",
              "       [-0.059, -0.277, -0.240, ..., -0.144, 0.405, 0.164],\n",
              "       [-0.001, -0.237, -0.161, ..., -0.171, 0.530, 0.158],\n",
              "       [-0.325, 0.013, -0.256, ..., -0.305, 0.313, 0.362]], dtype=float32)"
            ]
          },
          "metadata": {
            "tags": []
          },
          "execution_count": 61
        }
      ]
    },
    {
      "cell_type": "markdown",
      "metadata": {
        "id": "ocfDET-r0yBG"
      },
      "source": [
        "# Calcul de la similarité entre deux phrases:\n",
        "Chaque vecteur de features correspond à la représentation BERT complète d'une phrase. On peut exploiter ces vecteurs d'une manière quasi-identique aux représentations vectorielles classiques comme Word2Vec.\n",
        "\n",
        "#### **Exemple: similarité entre deux phrases (instance de plagiat) avec la distance cosine (la plus utilisée):**\n",
        "\n",
        "Similarity = __0.90089226__ for sentences: \n",
        "-  It’s all the more important because the future for oil and gas companies is more uncertain than ever, which makes the future of their pipelines more uncertain, \n",
        "- An estimated 140 million people lost their jobs after India locked down its economy in March to stop the outbreak\n"
      ]
    },
    {
      "cell_type": "code",
      "metadata": {
        "colab": {
          "base_uri": "https://localhost:8080/"
        },
        "id": "1uVCj0hfxCnJ",
        "outputId": "7d9f63b1-2d51-4c18-98b4-c7bc6b23bc65"
      },
      "source": [
        "from numpy import dot\n",
        "from numpy.linalg import norm\n",
        "\n",
        "cos_sim = dot(features[1], features[2])/(norm(features[1])*norm(features[2]))\n",
        "print(\"Similarity =\", cos_sim, \"for sentences: \\n-\", data[0][0], \"\\n -\", data[0][1])"
      ],
      "execution_count": null,
      "outputs": [
        {
          "output_type": "stream",
          "text": [
            "Similarity = 0.9008924 for sentences: \n",
            "-  It’s all the more important because the future for oil and gas companies is more uncertain than ever, which makes the future of their pipelines more uncertain, \n",
            " - An estimated 140 million people lost their jobs after India locked down its economy in March to stop the outbreak\n"
          ],
          "name": "stdout"
        }
      ]
    },
    {
      "cell_type": "markdown",
      "metadata": {
        "id": "X7EkEVwL10VQ"
      },
      "source": [
        "# Détéction des instances paires de plagiat dans un mini corpus (matching).\n",
        "Indépendemment de la distance ou combinaison de distances utilisée, le concept reste le même:\n",
        "\n",
        "- Calculer la distance/similarité entre chaque paires du corpus.\n",
        "- Les instances de plagiats doivent donner la distance la plus petite, ou la similarité la plus grande.\n",
        "\n",
        "BERT digére le contexte, il est donc en mesure de détécter le plagiat à un niveau sémantique.\n",
        "\n",
        "*Distance = 1 - Similarité\n",
        "\n",
        "- Sur les heatmaps, sont indiquées en bleu les instances de plagiat."
      ]
    },
    {
      "cell_type": "code",
      "metadata": {
        "colab": {
          "base_uri": "https://localhost:8080/"
        },
        "id": "PtGUifpoxiHX",
        "outputId": "73ff7197-d5da-4288-d338-52d2c86dd2a3"
      },
      "source": [
        "from sklearn.metrics.pairwise import cosine_similarity\n",
        "similarity_matrix = cosine_similarity(features)\n",
        "print(similarity_matrix)"
      ],
      "execution_count": null,
      "outputs": [
        {
          "output_type": "stream",
          "text": [
            "[[1.000 0.789 0.887 0.914 0.971 0.906 0.883 0.891 0.890]\n",
            " [0.789 1.000 0.901 0.866 0.777 0.837 0.879 0.851 0.772]\n",
            " [0.887 0.901 1.000 0.923 0.901 0.924 0.948 0.944 0.842]\n",
            " [0.914 0.866 0.923 1.000 0.908 0.978 0.915 0.910 0.869]\n",
            " [0.971 0.777 0.901 0.908 1.000 0.908 0.883 0.895 0.864]\n",
            " [0.906 0.837 0.924 0.978 0.908 1.000 0.907 0.908 0.859]\n",
            " [0.883 0.879 0.948 0.915 0.883 0.907 1.000 0.987 0.842]\n",
            " [0.891 0.851 0.944 0.910 0.895 0.908 0.987 1.000 0.865]\n",
            " [0.890 0.772 0.842 0.869 0.864 0.859 0.842 0.865 1.000]]\n"
          ],
          "name": "stdout"
        }
      ]
    },
    {
      "cell_type": "code",
      "metadata": {
        "colab": {
          "base_uri": "https://localhost:8080/",
          "height": 506
        },
        "id": "s9cQwG152kpt",
        "outputId": "e41590fb-e95f-4d9f-a0ff-7bdadaafafc0"
      },
      "source": [
        "print(data[0])\n",
        "\n",
        "fig, (ax1, ax2, ax3) = plt.subplots(1,3, figsize=(20, 5))\n",
        "cmap = sns.cm.rocket_r\n",
        "\n",
        "mask = np.triu(similarity_matrix)\n",
        "ax = sns.heatmap(similarity_matrix, ax=ax1, annot=True, mask=mask, cmap=cmap, linewidths=.5)\n",
        "ax.set_title(\"Similarité Cosine\", color=\"white\").set_fontsize(20)\n",
        "\n",
        "for pair in plag_pairs:\n",
        "  ax.add_patch(Rectangle(pair,1,1, fill=False, edgecolor='blue', lw=2, clip_on=False))\n",
        "ax.tick_params(length=0)\n",
        "\n",
        "##------------------------------------\n",
        "from sklearn.metrics.pairwise import manhattan_distances\n",
        "distance_matrix_manhattan = manhattan_distances(features)\n",
        "#similarity_matrix[similarity_matrix > 0.99999] = float(\"nan\")\n",
        "\n",
        "# normalisation:\n",
        "norm = np.linalg.norm(distance_matrix_manhattan)\n",
        "similarity_matrix_manhattan = 1- distance_matrix_manhattan/norm\n",
        "\n",
        "mask_manhattan = np.triu(similarity_matrix_manhattan)\n",
        "ax_manhattan = sns.heatmap(similarity_matrix_manhattan, ax = ax2, annot=True, mask=mask_manhattan, cmap=cmap, linewidths=.5)\n",
        "ax_manhattan.set_title(\"Similarité Manhattan\", color=\"white\").set_fontsize(20)\n",
        "\n",
        "for pair in plag_pairs:\n",
        "  ax_manhattan.add_patch(Rectangle(pair,1,1, fill=False, edgecolor='blue', lw=2, clip_on=False))\n",
        "ax_manhattan.tick_params(length=0)\n",
        "\n",
        "##-----------------------------------\n",
        "from sklearn.metrics import pairwise_distances\n",
        "distance_matrix_euclidean = pairwise_distances(features, metric = \"euclidean\")\n",
        "#similarity_matrix[similarity_matrix > 0.99999] = float(\"nan\")\n",
        "\n",
        "# normalisation:\n",
        "norm = np.linalg.norm(distance_matrix_euclidean)\n",
        "similarity_matrix_euclidean = 1- distance_matrix_euclidean/norm\n",
        "\n",
        "mask_euclidean = np.triu(similarity_matrix_euclidean)\n",
        "ax_euclidean = sns.heatmap(similarity_matrix_euclidean, ax=ax3, annot=True, mask=mask_euclidean, cmap=cmap, linewidths=.5)\n",
        "ax_euclidean.set_title(\"Similarité Euclidienne\", color=\"white\").set_fontsize(20)\n",
        "\n",
        "for pair in plag_pairs:\n",
        "  ax_euclidean.add_patch(Rectangle(pair,1,1, fill=False, edgecolor='blue', lw=2, clip_on=False))\n",
        "\n",
        "ax_euclidean.tick_params(length=0)\n",
        "##-----------------------------------\n",
        "\n",
        "plt.tight_layout()\n",
        "plt.show()"
      ],
      "execution_count": null,
      "outputs": [
        {
          "output_type": "stream",
          "text": [
            "0     It’s all the more important because the futur...\n",
            "1    An estimated 140 million people lost their job...\n",
            "2    An evaluated 140 million individuals misplaced...\n",
            "3    As the lockdown was eased, many went back to w...\n",
            "4    t’s all the more vital since the long run for ...\n",
            "5    As the lockdown was facilitated, numerous went...\n",
            "6    while many others saw their salaries drastical...\n",
            "7    whereas numerous others saw their pay rates de...\n",
            "8    While the modern concept of sustainable develo...\n",
            "Name: 0, dtype: object\n"
          ],
          "name": "stdout"
        },
        {
          "output_type": "display_data",
          "data": {
            "image/png": "[encoded data removed]",
            "text/plain": [
              "<Figure size 1440x360 with 6 Axes>"
            ]
          },
          "metadata": {
            "tags": [],
            "needs_background": "light"
          }
        }
      ]
    },
    {
      "cell_type": "markdown",
      "metadata": {
        "id": "dKlkPg63293d"
      },
      "source": [
        "# Corrélation entre les distances:\n",
        "Les diatances utilisées, ainsi que d'autres ayant été testées, sont pratiquement correllées voire quasi similaires comme le cas de la distance Manhattan/Cityblock et Euclidienne.\n",
        "\n",
        "Il peut donc faire objet d'optimisation le choix de la distance ou la combinaison de distances la plus représentative et la plus utile pour l'analuse de la similarité textuelle.\n",
        "\n",
        "From the sklearn documentation: [‘cityblock’, ‘cosine’, ‘euclidean’, ‘l1’, ‘l2’, ‘manhattan’, ‘braycurtis’, ‘canberra’, ‘chebyshev’, ‘correlation’, ‘dice’, ‘hamming’, ‘jaccard’, ‘kulsinski’, ‘mahalanobis’, ‘minkowski’, ‘rogerstanimoto’, ‘russellrao’, ‘seuclidean’, ‘sokalmichener’, ‘sokalsneath’, ‘sqeuclidean’, ‘yule’]"
      ]
    },
    {
      "cell_type": "code",
      "metadata": {
        "id": "1n4ViakEiy2n",
        "colab": {
          "base_uri": "https://localhost:8080/",
          "height": 369
        },
        "outputId": "60df35f5-1021-45b0-976b-4db1cbf7dc8a"
      },
      "source": [
        "cosine_manhattan_matrix = np.absolute(similarity_matrix - similarity_matrix_manhattan)\n",
        "cosine_manhattan_matrix = cosine_manhattan_matrix.round(3)\n",
        "\n",
        "manhattan_euclidean_matrix = np.absolute(similarity_matrix_euclidean - similarity_matrix_manhattan)\n",
        "manhattan_euclidean_matrix = manhattan_euclidean_matrix.round(3)\n",
        "\n",
        "fig, (ax1, ax2) = plt.subplots(1,2, figsize=(15, 5))\n",
        "\n",
        "sns.heatmap(cosine_manhattan_matrix, ax=ax1, annot=True, cmap=\"coolwarm\", fmt=\".0g\").set_title(\"Cosine Vs Manhattan\", color=\"white\").set_fontsize(25)\n",
        "sns.heatmap(manhattan_euclidean_matrix, ax=ax2, annot=True, cmap=\"coolwarm\", fmt=\".0g\").set_title(\"Manhattan Vs Euclidean\", color=\"white\").set_fontsize(25)\n",
        "\n",
        "plt.tight_layout()\n",
        "plt.show()\n"
      ],
      "execution_count": null,
      "outputs": [
        {
          "output_type": "display_data",
          "data": {
            "image/png": "[encoded data removed]",
            "text/plain": [
              "<Figure size 1080x360 with 4 Axes>"
            ]
          },
          "metadata": {
            "tags": [],
            "needs_background": "light"
          }
        }
      ]
    },
    {
      "cell_type": "code",
      "metadata": {
        "id": "Rf1Ipcbn4bP1"
      },
      "source": [
        ""
      ],
      "execution_count": null,
      "outputs": []
    }
  ]
}